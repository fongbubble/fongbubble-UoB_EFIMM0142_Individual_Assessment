{
  "nbformat": 4,
  "nbformat_minor": 0,
  "metadata": {
    "colab": {
      "provenance": [],
      "authorship_tag": "ABX9TyOfxzV92nJug0un4YrjOtZK",
      "include_colab_link": true
    },
    "kernelspec": {
      "name": "python3",
      "display_name": "Python 3"
    },
    "language_info": {
      "name": "python"
    }
  },
  "cells": [
    {
      "cell_type": "markdown",
      "metadata": {
        "id": "view-in-github",
        "colab_type": "text"
      },
      "source": [
        "<a href=\"https://colab.research.google.com/github/fongbubble/fongbubble_UoB_EFIMM0142_Individual_Assessment/blob/main/Question2.ipynb\" target=\"_parent\"><img src=\"https://colab.research.google.com/assets/colab-badge.svg\" alt=\"Open In Colab\"/></a>"
      ]
    },
    {
      "cell_type": "markdown",
      "source": [
        "# Packages"
      ],
      "metadata": {
        "id": "tCL6FofdD0mh"
      }
    },
    {
      "cell_type": "code",
      "execution_count": null,
      "metadata": {
        "colab": {
          "base_uri": "https://localhost:8080/"
        },
        "id": "bEZkFhPNDzgD",
        "outputId": "a654acf6-3a2c-45f6-95da-d5a45938a294"
      },
      "outputs": [
        {
          "output_type": "stream",
          "name": "stdout",
          "text": [
            "Collecting pulp\n",
            "  Downloading PuLP-2.9.0-py3-none-any.whl.metadata (5.4 kB)\n",
            "Downloading PuLP-2.9.0-py3-none-any.whl (17.7 MB)\n",
            "\u001b[2K   \u001b[90m━━━━━━━━━━━━━━━━━━━━━━━━━━━━━━━━━━━━━━━━\u001b[0m \u001b[32m17.7/17.7 MB\u001b[0m \u001b[31m65.7 MB/s\u001b[0m eta \u001b[36m0:00:00\u001b[0m\n",
            "\u001b[?25hInstalling collected packages: pulp\n",
            "Successfully installed pulp-2.9.0\n"
          ]
        }
      ],
      "source": [
        "!pip install pulp\n",
        "from pulp import *\n",
        "import matplotlib.pyplot as plt\n",
        "import networkx as nx"
      ]
    },
    {
      "cell_type": "markdown",
      "source": [
        "# Question 2"
      ],
      "metadata": {
        "id": "22epeEHrD3QY"
      }
    },
    {
      "cell_type": "markdown",
      "source": [
        "## Question 2.a"
      ],
      "metadata": {
        "id": "ATOSOp9SD46p"
      }
    },
    {
      "cell_type": "code",
      "source": [
        "# Define data\n",
        "locations = [\n",
        "    \"Santa Ana\", \"El Paso\", \"Pendleton\", \"Houston\", \"Kansas City\",\n",
        "    \"Los Angeles\", \"Glendale\", \"Jacksonville\", \"Little Rock\", \"Bridgeport\", \"Sacramento\"\n",
        "]\n",
        "demand = [22418, 6800, 80290, 100447, 24570, 64761, 33689, 68486, 148586, 111475, 112000]\n",
        "\n",
        "# Corrected costs\n",
        "cincinnati_costs = [1000, 0.84, 0.83, 0.45, 0.36, 1000, 1000, 0.34, 0.34, 0.34, 1000]\n",
        "oakland_costs = [0.22, 0.74, 0.49, 1000, 1000, 0.22, 0.22, 1000, 1000, 1000, 0.15]\n",
        "\n",
        "cincinnati_production_cost = 1.20\n",
        "oakland_production_cost = 1.65\n",
        "cincinnati_capacity = 500000\n",
        "\n",
        "# Create LP problem\n",
        "prob = pulp.LpProblem(\"Question2_a\", LpMinimize)\n",
        "\n",
        "# Decision variables\n",
        "C = [pulp.LpVariable(f\"C_{loc}\", lowBound=0) for loc in locations]\n",
        "O = [pulp.LpVariable(f\"O_{loc}\", lowBound=0) for loc in locations]\n",
        "\n",
        "# Objective function: Minimize total cost\n",
        "total_cost = (\n",
        "    sum((cincinnati_costs[i] + cincinnati_production_cost) * C[i] for i in range(len(locations)))\n",
        "    + sum((oakland_costs[i] + oakland_production_cost) * O[i] for i in range(len(locations)))\n",
        ")\n",
        "prob += total_cost\n",
        "\n",
        "# Constraints\n",
        "\n",
        "# Demand must be met for each location\n",
        "for i in range(len(locations)):\n",
        "    prob += C[i] + O[i] == demand[i], f\"Demand_{locations[i]}\"\n",
        "\n",
        "# Cincinnati production capacity constraint\n",
        "prob += sum(C) <= cincinnati_capacity, \"Cincinnati_Capacity\"\n",
        "\n",
        "# Solve the problem\n",
        "prob.solve()\n",
        "\n",
        "# Print results\n",
        "print(\"Status:\", LpStatus[prob.status])\n",
        "print(f\"Total Cost: ${pulp.value(prob.objective):,.2f}\")\n",
        "print(\"\\nAllocation:\")\n",
        "for i in range(len(locations)):\n",
        "    print(\n",
        "        f\"{locations[i]}: Cincinnati={C[i].varValue} gallons, Oakland={O[i].varValue} gallons\"\n",
        "    )\n"
      ],
      "metadata": {
        "colab": {
          "base_uri": "https://localhost:8080/"
        },
        "id": "aR1CKRiTEEUG",
        "outputId": "4c1345a9-f4dc-4bf8-c0ec-919e087cba7e"
      },
      "execution_count": null,
      "outputs": [
        {
          "output_type": "stream",
          "name": "stdout",
          "text": [
            "Status: Optimal\n",
            "Total Cost: $1,318,984.93\n",
            "\n",
            "Allocation:\n",
            "Santa Ana: Cincinnati=0.0 gallons, Oakland=22418.0 gallons\n",
            "El Paso: Cincinnati=6800.0 gallons, Oakland=0.0 gallons\n",
            "Pendleton: Cincinnati=39636.0 gallons, Oakland=40654.0 gallons\n",
            "Houston: Cincinnati=100447.0 gallons, Oakland=0.0 gallons\n",
            "Kansas City: Cincinnati=24570.0 gallons, Oakland=0.0 gallons\n",
            "Los Angeles: Cincinnati=0.0 gallons, Oakland=64761.0 gallons\n",
            "Glendale: Cincinnati=0.0 gallons, Oakland=33689.0 gallons\n",
            "Jacksonville: Cincinnati=68486.0 gallons, Oakland=0.0 gallons\n",
            "Little Rock: Cincinnati=148586.0 gallons, Oakland=0.0 gallons\n",
            "Bridgeport: Cincinnati=111475.0 gallons, Oakland=0.0 gallons\n",
            "Sacramento: Cincinnati=0.0 gallons, Oakland=112000.0 gallons\n"
          ]
        }
      ]
    },
    {
      "cell_type": "code",
      "source": [
        "prob"
      ],
      "metadata": {
        "colab": {
          "base_uri": "https://localhost:8080/"
        },
        "id": "nrt48rESXXP7",
        "outputId": "699527b7-b50b-4482-c0aa-d774505cff4a"
      },
      "execution_count": null,
      "outputs": [
        {
          "output_type": "execute_result",
          "data": {
            "text/plain": [
              "Question2_a:\n",
              "MINIMIZE\n",
              "1.54*C_Bridgeport + 2.04*C_El_Paso + 1001.2*C_Glendale + 1.65*C_Houston + 1.54*C_Jacksonville + 1.56*C_Kansas_City + 1.54*C_Little_Rock + 1001.2*C_Los_Angeles + 2.03*C_Pendleton + 1001.2*C_Sacramento + 1001.2*C_Santa_Ana + 1001.65*O_Bridgeport + 2.3899999999999997*O_El_Paso + 1.8699999999999999*O_Glendale + 1001.65*O_Houston + 1001.65*O_Jacksonville + 1001.65*O_Kansas_City + 1001.65*O_Little_Rock + 1.8699999999999999*O_Los_Angeles + 2.1399999999999997*O_Pendleton + 1.7999999999999998*O_Sacramento + 1.8699999999999999*O_Santa_Ana + 0.0\n",
              "SUBJECT TO\n",
              "Demand_Santa_Ana: C_Santa_Ana + O_Santa_Ana = 22418\n",
              "\n",
              "Demand_El_Paso: C_El_Paso + O_El_Paso = 6800\n",
              "\n",
              "Demand_Pendleton: C_Pendleton + O_Pendleton = 80290\n",
              "\n",
              "Demand_Houston: C_Houston + O_Houston = 100447\n",
              "\n",
              "Demand_Kansas_City: C_Kansas_City + O_Kansas_City = 24570\n",
              "\n",
              "Demand_Los_Angeles: C_Los_Angeles + O_Los_Angeles = 64761\n",
              "\n",
              "Demand_Glendale: C_Glendale + O_Glendale = 33689\n",
              "\n",
              "Demand_Jacksonville: C_Jacksonville + O_Jacksonville = 68486\n",
              "\n",
              "Demand_Little_Rock: C_Little_Rock + O_Little_Rock = 148586\n",
              "\n",
              "Demand_Bridgeport: C_Bridgeport + O_Bridgeport = 111475\n",
              "\n",
              "Demand_Sacramento: C_Sacramento + O_Sacramento = 112000\n",
              "\n",
              "Cincinnati_Capacity: C_Bridgeport + C_El_Paso + C_Glendale + C_Houston\n",
              " + C_Jacksonville + C_Kansas_City + C_Little_Rock + C_Los_Angeles\n",
              " + C_Pendleton + C_Sacramento + C_Santa_Ana <= 500000\n",
              "\n",
              "VARIABLES\n",
              "C_Bridgeport Continuous\n",
              "C_El_Paso Continuous\n",
              "C_Glendale Continuous\n",
              "C_Houston Continuous\n",
              "C_Jacksonville Continuous\n",
              "C_Kansas_City Continuous\n",
              "C_Little_Rock Continuous\n",
              "C_Los_Angeles Continuous\n",
              "C_Pendleton Continuous\n",
              "C_Sacramento Continuous\n",
              "C_Santa_Ana Continuous\n",
              "O_Bridgeport Continuous\n",
              "O_El_Paso Continuous\n",
              "O_Glendale Continuous\n",
              "O_Houston Continuous\n",
              "O_Jacksonville Continuous\n",
              "O_Kansas_City Continuous\n",
              "O_Little_Rock Continuous\n",
              "O_Los_Angeles Continuous\n",
              "O_Pendleton Continuous\n",
              "O_Sacramento Continuous\n",
              "O_Santa_Ana Continuous"
            ]
          },
          "metadata": {},
          "execution_count": 4
        }
      ]
    },
    {
      "cell_type": "code",
      "source": [
        "sum(O[i].varValue for i in range(len(O))) # Assuming O is a list-like object\n",
        "# or if O has a defined length:\n",
        "# sum(O[i].varValue for i in range(len(O)))"
      ],
      "metadata": {
        "colab": {
          "base_uri": "https://localhost:8080/"
        },
        "id": "9NdThGXfIQIV",
        "outputId": "4975cb63-f25d-43da-b4d6-7fb472a6e5c1"
      },
      "execution_count": null,
      "outputs": [
        {
          "output_type": "execute_result",
          "data": {
            "text/plain": [
              "273522.0"
            ]
          },
          "metadata": {},
          "execution_count": 5
        }
      ]
    },
    {
      "cell_type": "markdown",
      "source": [
        "## Question 2.b"
      ],
      "metadata": {
        "id": "HYeYAuCID74i"
      }
    },
    {
      "cell_type": "code",
      "source": [
        "breakeven = (pulp.value(prob.objective))/(sum(C[i].varValue for i in range(len(C)))+sum(O[i].varValue for i in range(len(O))))\n",
        "breakeven"
      ],
      "metadata": {
        "colab": {
          "base_uri": "https://localhost:8080/"
        },
        "id": "LQvz4n6GWN8J",
        "outputId": "8c1cb386-a738-4d82-a26a-eec61f6bb287"
      },
      "execution_count": null,
      "outputs": [
        {
          "output_type": "execute_result",
          "data": {
            "text/plain": [
              "1.7051679590237898"
            ]
          },
          "metadata": {},
          "execution_count": 6
        }
      ]
    },
    {
      "cell_type": "markdown",
      "source": [
        "## Question 2.c"
      ],
      "metadata": {
        "id": "ympLb_n8D-ec"
      }
    },
    {
      "cell_type": "code",
      "source": [
        "prof_margin = breakeven*1.15\n",
        "prof_margin"
      ],
      "metadata": {
        "colab": {
          "base_uri": "https://localhost:8080/"
        },
        "id": "czYldyWTWkrS",
        "outputId": "ba84b561-ef00-4b9f-8d01-3947cbddbbca"
      },
      "execution_count": null,
      "outputs": [
        {
          "output_type": "execute_result",
          "data": {
            "text/plain": [
              "1.9609431528773582"
            ]
          },
          "metadata": {},
          "execution_count": 7
        }
      ]
    },
    {
      "cell_type": "markdown",
      "source": [
        "## Question 2.d"
      ],
      "metadata": {
        "id": "1sxdGLAKXn5y"
      }
    },
    {
      "cell_type": "code",
      "source": [
        "# Define original data\n",
        "locations = [\n",
        "    \"Santa Ana\", \"El Paso\", \"Pendleton\", \"Houston\", \"Kansas City\",\n",
        "    \"Los Angeles\", \"Glendale\", \"Jacksonville\", \"Little Rock\", \"Bridgeport\", \"Sacramento\"\n",
        "]\n",
        "demand = [22418, 6800, 80290, 100447, 24570, 64761, 33689, 68486, 148586, 111475, 112000]\n",
        "\n",
        "# Original costs\n",
        "cincinnati_costs_ori = [1000, 0.84, 0.83, 0.45, 0.36, 1000, 1000, 0.34, 0.34, 0.34, 1000]\n",
        "oakland_costs_ori = [0.22, 0.74, 0.49, 1000, 1000, 0.22, 0.22, 1000, 1000, 1000, 0.15]\n",
        "\n",
        "cincinnati_production_cost = 1.20\n",
        "oakland_production_cost = 1.65\n",
        "cincinnati_capacity = 500000\n",
        "\n",
        "# Function to adjust costs and solve\n",
        "def solve_with_adjustment(adjustment):\n",
        "    # Adjust freight costs\n",
        "    adjustments = [-0.2, -0.1, 0, 0.1, 0.2]\n",
        "    cincinnati_costs = [cost * (1 + adjustment) if cost < 1000 else cost for cost in cincinnati_costs_ori]\n",
        "    oakland_costs = [cost * (1 + adjustment) if cost < 1000 else cost for cost in oakland_costs_ori]\n",
        "\n",
        "    # Create LP problem\n",
        "    prob = pulp.LpProblem(\"Question2_d\", LpMinimize)\n",
        "\n",
        "    # Decision variables\n",
        "    cincinnati_vars = [pulp.LpVariable(f\"Cincinnati_{loc}\", lowBound=0) for loc in locations]\n",
        "    oakland_vars = [pulp.LpVariable(f\"Oakland_{loc}\", lowBound=0) for loc in locations]\n",
        "\n",
        "    # Objective function: Minimize total cost\n",
        "    total_cost = (\n",
        "        sum((cincinnati_costs[i] + cincinnati_production_cost) * cincinnati_vars[i] for i in range(len(locations)))\n",
        "        + sum((oakland_costs[i] + oakland_production_cost) * oakland_vars[i] for i in range(len(locations)))\n",
        "    )\n",
        "    prob += total_cost\n",
        "\n",
        "    # Constraints\n",
        "    for i in range(len(locations)):\n",
        "        prob += cincinnati_vars[i] + oakland_vars[i] == demand[i], f\"Demand_{locations[i]}\"\n",
        "    prob += sum(cincinnati_vars) <= cincinnati_capacity, \"Cincinnati_Capacity\"\n",
        "\n",
        "    # Solve the problem\n",
        "    prob.solve()\n",
        "    return pulp.value(prob.objective)\n",
        "\n",
        "# Sensitivity analysis for -20%, -10%, 0%, +10%, +20% adjustments\n",
        "adjustments = [-0.2, -0.1, 0, 0.1, 0.2]\n",
        "results = {f\"{int(adjustment * 100)}%\": solve_with_adjustment(adjustment) for adjustment in adjustments}\n",
        "\n",
        "# Print results\n",
        "print(\"Freight Cost Sensitivity Analysis:\\n\")\n",
        "for adjustment, total_cost in results.items():\n",
        "    print(f\"Change in Freight Costs: {adjustment} -> Total Cost: ${total_cost:,.2f}\")"
      ],
      "metadata": {
        "colab": {
          "base_uri": "https://localhost:8080/"
        },
        "id": "O3y6kgKmXqYo",
        "outputId": "b4d0ca38-1eb0-4a6f-9243-0a462e1375c5"
      },
      "execution_count": null,
      "outputs": [
        {
          "output_type": "stream",
          "name": "stdout",
          "text": [
            "Freight Cost Sensitivity Analysis:\n",
            "\n",
            "Change in Freight Costs: -20% -> Total Cost: $1,265,450.20\n",
            "Change in Freight Costs: -10% -> Total Cost: $1,292,217.57\n",
            "Change in Freight Costs: 0% -> Total Cost: $1,318,984.93\n",
            "Change in Freight Costs: 10% -> Total Cost: $1,345,752.29\n",
            "Change in Freight Costs: 20% -> Total Cost: $1,372,519.66\n"
          ]
        }
      ]
    },
    {
      "cell_type": "markdown",
      "source": [
        "## Question 2.e"
      ],
      "metadata": {
        "id": "ryYuBcVpbB83"
      }
    },
    {
      "cell_type": "code",
      "source": [
        "# Define original data\n",
        "locations = [\n",
        "    \"Santa Ana\", \"El Paso\", \"Pendleton\", \"Houston\", \"Kansas City\",\n",
        "    \"Los Angeles\", \"Glendale\", \"Jacksonville\", \"Little Rock\", \"Bridgeport\", \"Sacramento\"\n",
        "]\n",
        "demand = [22418, 6800, 80290, 100447, 24570, 64761, 33689, 68486, 148586, 111475, 112000]\n",
        "\n",
        "# Original costs\n",
        "cincinnati_costs_ori = [1000, 0.84, 0.83, 0.45, 0.36, 1000, 1000, 0.34, 0.34, 0.34, 1000]\n",
        "oakland_costs_ori = [0.22, 0.74, 0.49, 1000, 1000, 0.22, 0.22, 1000, 1000, 1000, 0.15]\n",
        "\n",
        "cincinnati_production_cost_ori = 1.20\n",
        "oakland_production_cost_ori = 1.65\n",
        "cincinnati_capacity = 500000\n",
        "\n",
        "# Function to adjust costs and solve\n",
        "def solve_with_cost_adjustments(prod_adj, ship_adj):\n",
        "    # Adjust production and shipping costs\n",
        "    cincinnati_production_cost = cincinnati_production_cost_ori * (1 + prod_adj)\n",
        "    oakland_production_cost = oakland_production_cost_ori * (1 + prod_adj)\n",
        "    cincinnati_costs = [cost * (1 + ship_adj) if cost < 1000 else cost for cost in cincinnati_costs_ori]\n",
        "    oakland_costs = [cost * (1 + ship_adj) if cost < 1000 else cost for cost in oakland_costs_ori]\n",
        "\n",
        "    # Create LP problem\n",
        "    prob = pulp.LpProblem(\"Question2_e\", LpMinimize)\n",
        "\n",
        "    # Decision variables\n",
        "    cincinnati_vars = [pulp.LpVariable(f\"Cincinnati_{loc}\", lowBound=0) for loc in locations]\n",
        "    oakland_vars = [pulp.LpVariable(f\"Oakland_{loc}\", lowBound=0) for loc in locations]\n",
        "\n",
        "    # Objective function: Minimize total cost\n",
        "    total_cost = (\n",
        "        sum((cincinnati_costs[i] + cincinnati_production_cost) * cincinnati_vars[i] for i in range(len(locations)))\n",
        "        + sum((oakland_costs[i] + oakland_production_cost) * oakland_vars[i] for i in range(len(locations)))\n",
        "    )\n",
        "    prob += total_cost\n",
        "\n",
        "    # Constraints\n",
        "    for i in range(len(locations)):\n",
        "        prob += cincinnati_vars[i] + oakland_vars[i] == demand[i], f\"Demand_{locations[i]}\"\n",
        "    prob += sum(cincinnati_vars) <= cincinnati_capacity, \"Cincinnati_Capacity\"\n",
        "\n",
        "    # Solve the problem\n",
        "    prob.solve()\n",
        "    return {\n",
        "        \"total_cost\": pulp.value(prob.objective),\n",
        "        \"allocations\": {\n",
        "            locations[i]: {\n",
        "                \"Cincinnati\": cincinnati_vars[i].varValue,\n",
        "                \"Oakland\": oakland_vars[i].varValue\n",
        "            }\n",
        "            for i in range(len(locations))\n",
        "        }\n",
        "    }\n",
        "\n",
        "# Sensitivity analysis for production and shipping cost adjustments\n",
        "production_adjustments = [-0.1, 0, 0.1]  # -10%, 0%, +10% changes in production costs\n",
        "shipping_adjustments = [-0.1, 0, 0.1]    # -10%, 0%, +10% changes in shipping costs\n",
        "\n",
        "results = {}\n",
        "\n",
        "for prod_adj in production_adjustments:\n",
        "    for ship_adj in shipping_adjustments:\n",
        "        scenario_name = f\"Prod: {int(prod_adj * 100)}%, Ship: {int(ship_adj * 100)}%\"\n",
        "        results[scenario_name] = solve_with_cost_adjustments(prod_adj, ship_adj)\n",
        "\n",
        "# Print results\n",
        "print(\"Sensitivity Analysis for Production and Shipping Costs:\\n\")\n",
        "for scenario, result in results.items():\n",
        "    print(f\"Scenario: {scenario}\")\n",
        "    print(f\"  Total Cost: ${result['total_cost']:,.2f}\")\n",
        "    print(\"  Allocation:\")\n",
        "    for loc, alloc in result[\"allocations\"].items():\n",
        "        print(f\"    {loc}: Cincinnati={alloc['Cincinnati']} gallons, Oakland={alloc['Oakland']} gallons\")\n",
        "    print(\"\\n\")\n"
      ],
      "metadata": {
        "colab": {
          "base_uri": "https://localhost:8080/"
        },
        "id": "TI21Ee69bD9E",
        "outputId": "fa78e60d-98ff-4ddc-ccc6-079d71d8537b"
      },
      "execution_count": null,
      "outputs": [
        {
          "output_type": "stream",
          "name": "stdout",
          "text": [
            "Sensitivity Analysis for Production and Shipping Costs:\n",
            "\n",
            "Scenario: Prod: -10%, Ship: -10%\n",
            "  Total Cost: $1,187,086.44\n",
            "  Allocation:\n",
            "    Santa Ana: Cincinnati=0.0 gallons, Oakland=22418.0 gallons\n",
            "    El Paso: Cincinnati=6800.0 gallons, Oakland=0.0 gallons\n",
            "    Pendleton: Cincinnati=39636.0 gallons, Oakland=40654.0 gallons\n",
            "    Houston: Cincinnati=100447.0 gallons, Oakland=0.0 gallons\n",
            "    Kansas City: Cincinnati=24570.0 gallons, Oakland=0.0 gallons\n",
            "    Los Angeles: Cincinnati=0.0 gallons, Oakland=64761.0 gallons\n",
            "    Glendale: Cincinnati=0.0 gallons, Oakland=33689.0 gallons\n",
            "    Jacksonville: Cincinnati=68486.0 gallons, Oakland=0.0 gallons\n",
            "    Little Rock: Cincinnati=148586.0 gallons, Oakland=0.0 gallons\n",
            "    Bridgeport: Cincinnati=111475.0 gallons, Oakland=0.0 gallons\n",
            "    Sacramento: Cincinnati=0.0 gallons, Oakland=112000.0 gallons\n",
            "\n",
            "\n",
            "Scenario: Prod: -10%, Ship: 0%\n",
            "  Total Cost: $1,213,853.80\n",
            "  Allocation:\n",
            "    Santa Ana: Cincinnati=0.0 gallons, Oakland=22418.0 gallons\n",
            "    El Paso: Cincinnati=6800.0 gallons, Oakland=0.0 gallons\n",
            "    Pendleton: Cincinnati=39636.0 gallons, Oakland=40654.0 gallons\n",
            "    Houston: Cincinnati=100447.0 gallons, Oakland=0.0 gallons\n",
            "    Kansas City: Cincinnati=24570.0 gallons, Oakland=0.0 gallons\n",
            "    Los Angeles: Cincinnati=0.0 gallons, Oakland=64761.0 gallons\n",
            "    Glendale: Cincinnati=0.0 gallons, Oakland=33689.0 gallons\n",
            "    Jacksonville: Cincinnati=68486.0 gallons, Oakland=0.0 gallons\n",
            "    Little Rock: Cincinnati=148586.0 gallons, Oakland=0.0 gallons\n",
            "    Bridgeport: Cincinnati=111475.0 gallons, Oakland=0.0 gallons\n",
            "    Sacramento: Cincinnati=0.0 gallons, Oakland=112000.0 gallons\n",
            "\n",
            "\n",
            "Scenario: Prod: -10%, Ship: 10%\n",
            "  Total Cost: $1,240,621.16\n",
            "  Allocation:\n",
            "    Santa Ana: Cincinnati=0.0 gallons, Oakland=22418.0 gallons\n",
            "    El Paso: Cincinnati=6800.0 gallons, Oakland=0.0 gallons\n",
            "    Pendleton: Cincinnati=39636.0 gallons, Oakland=40654.0 gallons\n",
            "    Houston: Cincinnati=100447.0 gallons, Oakland=0.0 gallons\n",
            "    Kansas City: Cincinnati=24570.0 gallons, Oakland=0.0 gallons\n",
            "    Los Angeles: Cincinnati=0.0 gallons, Oakland=64761.0 gallons\n",
            "    Glendale: Cincinnati=0.0 gallons, Oakland=33689.0 gallons\n",
            "    Jacksonville: Cincinnati=68486.0 gallons, Oakland=0.0 gallons\n",
            "    Little Rock: Cincinnati=148586.0 gallons, Oakland=0.0 gallons\n",
            "    Bridgeport: Cincinnati=111475.0 gallons, Oakland=0.0 gallons\n",
            "    Sacramento: Cincinnati=0.0 gallons, Oakland=112000.0 gallons\n",
            "\n",
            "\n",
            "Scenario: Prod: 0%, Ship: -10%\n",
            "  Total Cost: $1,292,217.57\n",
            "  Allocation:\n",
            "    Santa Ana: Cincinnati=0.0 gallons, Oakland=22418.0 gallons\n",
            "    El Paso: Cincinnati=6800.0 gallons, Oakland=0.0 gallons\n",
            "    Pendleton: Cincinnati=39636.0 gallons, Oakland=40654.0 gallons\n",
            "    Houston: Cincinnati=100447.0 gallons, Oakland=0.0 gallons\n",
            "    Kansas City: Cincinnati=24570.0 gallons, Oakland=0.0 gallons\n",
            "    Los Angeles: Cincinnati=0.0 gallons, Oakland=64761.0 gallons\n",
            "    Glendale: Cincinnati=0.0 gallons, Oakland=33689.0 gallons\n",
            "    Jacksonville: Cincinnati=68486.0 gallons, Oakland=0.0 gallons\n",
            "    Little Rock: Cincinnati=148586.0 gallons, Oakland=0.0 gallons\n",
            "    Bridgeport: Cincinnati=111475.0 gallons, Oakland=0.0 gallons\n",
            "    Sacramento: Cincinnati=0.0 gallons, Oakland=112000.0 gallons\n",
            "\n",
            "\n",
            "Scenario: Prod: 0%, Ship: 0%\n",
            "  Total Cost: $1,318,984.93\n",
            "  Allocation:\n",
            "    Santa Ana: Cincinnati=0.0 gallons, Oakland=22418.0 gallons\n",
            "    El Paso: Cincinnati=6800.0 gallons, Oakland=0.0 gallons\n",
            "    Pendleton: Cincinnati=39636.0 gallons, Oakland=40654.0 gallons\n",
            "    Houston: Cincinnati=100447.0 gallons, Oakland=0.0 gallons\n",
            "    Kansas City: Cincinnati=24570.0 gallons, Oakland=0.0 gallons\n",
            "    Los Angeles: Cincinnati=0.0 gallons, Oakland=64761.0 gallons\n",
            "    Glendale: Cincinnati=0.0 gallons, Oakland=33689.0 gallons\n",
            "    Jacksonville: Cincinnati=68486.0 gallons, Oakland=0.0 gallons\n",
            "    Little Rock: Cincinnati=148586.0 gallons, Oakland=0.0 gallons\n",
            "    Bridgeport: Cincinnati=111475.0 gallons, Oakland=0.0 gallons\n",
            "    Sacramento: Cincinnati=0.0 gallons, Oakland=112000.0 gallons\n",
            "\n",
            "\n",
            "Scenario: Prod: 0%, Ship: 10%\n",
            "  Total Cost: $1,345,752.29\n",
            "  Allocation:\n",
            "    Santa Ana: Cincinnati=0.0 gallons, Oakland=22418.0 gallons\n",
            "    El Paso: Cincinnati=6800.0 gallons, Oakland=0.0 gallons\n",
            "    Pendleton: Cincinnati=39636.0 gallons, Oakland=40654.0 gallons\n",
            "    Houston: Cincinnati=100447.0 gallons, Oakland=0.0 gallons\n",
            "    Kansas City: Cincinnati=24570.0 gallons, Oakland=0.0 gallons\n",
            "    Los Angeles: Cincinnati=0.0 gallons, Oakland=64761.0 gallons\n",
            "    Glendale: Cincinnati=0.0 gallons, Oakland=33689.0 gallons\n",
            "    Jacksonville: Cincinnati=68486.0 gallons, Oakland=0.0 gallons\n",
            "    Little Rock: Cincinnati=148586.0 gallons, Oakland=0.0 gallons\n",
            "    Bridgeport: Cincinnati=111475.0 gallons, Oakland=0.0 gallons\n",
            "    Sacramento: Cincinnati=0.0 gallons, Oakland=112000.0 gallons\n",
            "\n",
            "\n",
            "Scenario: Prod: 10%, Ship: -10%\n",
            "  Total Cost: $1,397,348.70\n",
            "  Allocation:\n",
            "    Santa Ana: Cincinnati=0.0 gallons, Oakland=22418.0 gallons\n",
            "    El Paso: Cincinnati=6800.0 gallons, Oakland=0.0 gallons\n",
            "    Pendleton: Cincinnati=39636.0 gallons, Oakland=40654.0 gallons\n",
            "    Houston: Cincinnati=100447.0 gallons, Oakland=0.0 gallons\n",
            "    Kansas City: Cincinnati=24570.0 gallons, Oakland=0.0 gallons\n",
            "    Los Angeles: Cincinnati=0.0 gallons, Oakland=64761.0 gallons\n",
            "    Glendale: Cincinnati=0.0 gallons, Oakland=33689.0 gallons\n",
            "    Jacksonville: Cincinnati=68486.0 gallons, Oakland=0.0 gallons\n",
            "    Little Rock: Cincinnati=148586.0 gallons, Oakland=0.0 gallons\n",
            "    Bridgeport: Cincinnati=111475.0 gallons, Oakland=0.0 gallons\n",
            "    Sacramento: Cincinnati=0.0 gallons, Oakland=112000.0 gallons\n",
            "\n",
            "\n",
            "Scenario: Prod: 10%, Ship: 0%\n",
            "  Total Cost: $1,424,116.06\n",
            "  Allocation:\n",
            "    Santa Ana: Cincinnati=0.0 gallons, Oakland=22418.0 gallons\n",
            "    El Paso: Cincinnati=6800.0 gallons, Oakland=0.0 gallons\n",
            "    Pendleton: Cincinnati=39636.0 gallons, Oakland=40654.0 gallons\n",
            "    Houston: Cincinnati=100447.0 gallons, Oakland=0.0 gallons\n",
            "    Kansas City: Cincinnati=24570.0 gallons, Oakland=0.0 gallons\n",
            "    Los Angeles: Cincinnati=0.0 gallons, Oakland=64761.0 gallons\n",
            "    Glendale: Cincinnati=0.0 gallons, Oakland=33689.0 gallons\n",
            "    Jacksonville: Cincinnati=68486.0 gallons, Oakland=0.0 gallons\n",
            "    Little Rock: Cincinnati=148586.0 gallons, Oakland=0.0 gallons\n",
            "    Bridgeport: Cincinnati=111475.0 gallons, Oakland=0.0 gallons\n",
            "    Sacramento: Cincinnati=0.0 gallons, Oakland=112000.0 gallons\n",
            "\n",
            "\n",
            "Scenario: Prod: 10%, Ship: 10%\n",
            "  Total Cost: $1,450,883.42\n",
            "  Allocation:\n",
            "    Santa Ana: Cincinnati=0.0 gallons, Oakland=22418.0 gallons\n",
            "    El Paso: Cincinnati=6800.0 gallons, Oakland=0.0 gallons\n",
            "    Pendleton: Cincinnati=39636.0 gallons, Oakland=40654.0 gallons\n",
            "    Houston: Cincinnati=100447.0 gallons, Oakland=0.0 gallons\n",
            "    Kansas City: Cincinnati=24570.0 gallons, Oakland=0.0 gallons\n",
            "    Los Angeles: Cincinnati=0.0 gallons, Oakland=64761.0 gallons\n",
            "    Glendale: Cincinnati=0.0 gallons, Oakland=33689.0 gallons\n",
            "    Jacksonville: Cincinnati=68486.0 gallons, Oakland=0.0 gallons\n",
            "    Little Rock: Cincinnati=148586.0 gallons, Oakland=0.0 gallons\n",
            "    Bridgeport: Cincinnati=111475.0 gallons, Oakland=0.0 gallons\n",
            "    Sacramento: Cincinnati=0.0 gallons, Oakland=112000.0 gallons\n",
            "\n",
            "\n"
          ]
        }
      ]
    },
    {
      "cell_type": "code",
      "source": [
        "from pulp import LpProblem, LpMinimize, LpVariable, value\n",
        "import pandas as pd\n",
        "\n",
        "# Define original data\n",
        "locations = [\n",
        "    \"Santa Ana\", \"El Paso\", \"Pendleton\", \"Houston\", \"Kansas City\",\n",
        "    \"Los Angeles\", \"Glendale\", \"Jacksonville\", \"Little Rock\", \"Bridgeport\", \"Sacramento\"\n",
        "]\n",
        "demand = [22418, 6800, 80290, 100447, 24570, 64761, 33689, 68486, 148586, 111475, 112000]\n",
        "\n",
        "# Original costs\n",
        "cincinnati_costs_ori = [1000, 0.84, 0.83, 0.45, 0.36, 1000, 1000, 0.34, 0.34, 0.34, 1000]\n",
        "oakland_costs_ori = [0.22, 0.74, 0.49, 1000, 1000, 0.22, 0.22, 1000, 1000, 1000, 0.15]\n",
        "\n",
        "cincinnati_production_cost_ori = 1.20\n",
        "oakland_production_cost_ori = 1.65\n",
        "cincinnati_capacity = 500000\n",
        "\n",
        "# Function to adjust costs and solve\n",
        "def solve_with_cost_adjustments(prod_adj, ship_adj):\n",
        "    # Adjust production and shipping costs\n",
        "    cincinnati_production_cost = cincinnati_production_cost_ori * (1 + prod_adj)\n",
        "    oakland_production_cost = oakland_production_cost_ori * (1 + prod_adj)\n",
        "    cincinnati_costs = [cost * (1 + ship_adj) if cost < 1000 else cost for cost in cincinnati_costs_ori]\n",
        "    oakland_costs = [cost * (1 + ship_adj) if cost < 1000 else cost for cost in oakland_costs_ori]\n",
        "\n",
        "    # Create LP problem\n",
        "    prob = LpProblem(\"Sensitivity_Analysis\", LpMinimize)\n",
        "\n",
        "    # Decision variables\n",
        "    cincinnati_vars = [LpVariable(f\"Cincinnati_{loc}\", lowBound=0) for loc in locations]\n",
        "    oakland_vars = [LpVariable(f\"Oakland_{loc}\", lowBound=0) for loc in locations]\n",
        "\n",
        "    # Objective function: Minimize total cost\n",
        "    total_cost = (\n",
        "        sum((cincinnati_costs[i] + cincinnati_production_cost) * cincinnati_vars[i] for i in range(len(locations)))\n",
        "        + sum((oakland_costs[i] + oakland_production_cost) * oakland_vars[i] for i in range(len(locations)))\n",
        "    )\n",
        "    prob += total_cost\n",
        "\n",
        "    # Constraints\n",
        "    for i in range(len(locations)):\n",
        "        prob += cincinnati_vars[i] + oakland_vars[i] == demand[i], f\"Demand_{locations[i]}\"\n",
        "    prob += sum(cincinnati_vars) <= cincinnati_capacity, \"Cincinnati_Capacity\"\n",
        "\n",
        "    # Solve the problem\n",
        "    prob.solve()\n",
        "    return {\n",
        "        \"total_cost\": value(prob.objective),\n",
        "        \"allocations\": {\n",
        "            locations[i]: {\n",
        "                \"Cincinnati\": cincinnati_vars[i].varValue,\n",
        "                \"Oakland\": oakland_vars[i].varValue\n",
        "            }\n",
        "            for i in range(len(locations))\n",
        "        }\n",
        "    }\n",
        "\n",
        "# Sensitivity analysis for production and shipping cost adjustments\n",
        "production_adjustments = [-0.2, -0.1, -0.05, 0, 0.05, 0.1, 0.2]  # -10%, -5%, 0%, 5%, 10% changes in production costs\n",
        "shipping_adjustments = [-0.2, -0.1, -0.05, 0, 0.05, 0.1, 0.2]    # -10%, -5%, 0%, 5%, 10% changes in shipping costs\n",
        "\n",
        "results = {}\n",
        "\n",
        "for prod_adj in production_adjustments:\n",
        "    for ship_adj in shipping_adjustments:\n",
        "        scenario_name = f\"Prod: {int(prod_adj * 100)}%, Ship: {int(ship_adj * 100)}%\"\n",
        "        results[scenario_name] = solve_with_cost_adjustments(prod_adj, ship_adj)\n",
        "\n",
        "# Create a 5x5 matrix for production and shipping cost combinations\n",
        "prod_levels = [-20,-10, -5, 0, 5, 10,20]  # Production adjustments (-10%, -5%, 0%, 5%, 10%)\n",
        "ship_levels = [-20,-10, -5, 0, 5, 10,20]  # Shipping adjustments (-10%, -5%, 0%, 5%, 10%)\n",
        "\n",
        "# Extract results into a 5x5 matrix\n",
        "matrix_data = []\n",
        "for prod in prod_levels:\n",
        "    row = []\n",
        "    for ship in ship_levels:\n",
        "        scenario_name = f\"Prod: {prod}%, Ship: {ship}%\"\n",
        "        row.append(results[scenario_name]['total_cost'])\n",
        "    matrix_data.append(row)\n",
        "\n",
        "# Convert to DataFrame for better presentation\n",
        "matrix_df_5x5 = pd.DataFrame(\n",
        "    matrix_data,\n",
        "    index=[f\"Prod: {prod}%\" for prod in prod_levels],\n",
        "    columns=[f\"Ship: {ship}%\" for ship in ship_levels]\n",
        ")\n",
        "\n",
        "# Ensure results are displayed with two decimal points\n",
        "matrix_df_5x5 = pd.DataFrame(\n",
        "    [[round(value, 2) for value in row] for row in matrix_data],\n",
        "    index=[f\"Prod: {prod}%\" for prod in prod_levels],\n",
        "    columns=[f\"Ship: {ship}%\" for ship in ship_levels]\n",
        ")\n",
        "\n",
        "# Display the 5x5 matrix in plain text format with 2 decimal points\n",
        "print(\"Cost Sensitivity Matrix:\\n\")\n",
        "print(matrix_df_5x5.to_string(index=True, header=True))\n"
      ],
      "metadata": {
        "colab": {
          "base_uri": "https://localhost:8080/"
        },
        "id": "zoA2odhbTbVV",
        "outputId": "c83847cb-72af-49b9-f4c3-eb7acc25ed61"
      },
      "execution_count": null,
      "outputs": [
        {
          "output_type": "stream",
          "name": "stdout",
          "text": [
            "Cost Sensitivity Matrix:\n",
            "\n",
            "            Ship: -20%  Ship: -10%   Ship: -5%    Ship: 0%    Ship: 5%   Ship: 10%   Ship: 20%\n",
            "Prod: -20%  1055187.94  1081955.31  1095338.99  1108722.67  1122106.35  1134935.13  1160354.87\n",
            "Prod: -10%  1160319.07  1187086.44  1200470.12  1213853.80  1227237.48  1240621.16  1267269.62\n",
            "Prod: -5%   1212884.64  1239652.00  1253035.68  1266419.36  1279803.05  1293186.73  1319954.09\n",
            "Prod: 0%    1265450.20  1292217.57  1305601.25  1318984.93  1332368.61  1345752.29  1372519.66\n",
            "Prod: 5%    1318015.77  1344783.13  1358166.81  1371550.49  1384934.18  1398317.86  1425085.22\n",
            "Prod: 10%   1370581.33  1397348.70  1410732.38  1424116.06  1437499.74  1450883.42  1477650.79\n",
            "Prod: 20%   1475712.46  1502479.83  1515863.51  1529247.19  1542630.87  1556014.55  1582781.92\n"
          ]
        }
      ]
    },
    {
      "cell_type": "code",
      "source": [
        "from pulp import LpProblem, LpMinimize, LpVariable, value, LpStatus\n",
        "\n",
        "# Define original data\n",
        "locations = [\n",
        "    \"Santa Ana\", \"El Paso\", \"Pendleton\", \"Houston\", \"Kansas City\",\n",
        "    \"Los Angeles\", \"Glendale\", \"Jacksonville\", \"Little Rock\", \"Bridgeport\", \"Sacramento\"\n",
        "]\n",
        "demand = [22418, 6800, 80290, 100447, 24570, 64761, 33689, 68486, 148586, 111475, 112000]\n",
        "\n",
        "# Original costs\n",
        "cincinnati_costs = [1000, 0.84, 0.83, 0.45, 0.36, 1000, 1000, 0.34, 0.34, 0.34, 1000]\n",
        "oakland_costs = [0.22, 0.74, 0.49, 1000, 1000, 0.22, 0.22, 1000, 1000, 1000, 0.15]\n",
        "\n",
        "cincinnati_production_cost = 1.20\n",
        "oakland_production_cost = 1.65\n",
        "cincinnati_capacity = 500000\n",
        "\n",
        "# Adjust the transportation cost for Cincinnati to El Paso by 20%\n",
        "adjusted_cincinnati_costs = cincinnati_costs.copy()\n",
        "adjusted_cincinnati_costs[locations.index(\"Pendleton\")] *= 1.2\n",
        "\n",
        "# Create LP problem\n",
        "prob_adjusted = LpProblem(\"Adjusted_Cost\", LpMinimize)\n",
        "\n",
        "# Decision variables\n",
        "C_adjusted = [LpVariable(f\"C_{loc}\", lowBound=0) for loc in locations]\n",
        "O_adjusted = [LpVariable(f\"O_{loc}\", lowBound=0) for loc in locations]\n",
        "\n",
        "# Objective function: Minimize total cost with adjusted cost\n",
        "total_cost_adjusted = (\n",
        "    sum((adjusted_cincinnati_costs[i] + cincinnati_production_cost) * C_adjusted[i] for i in range(len(locations)))\n",
        "    + sum((oakland_costs[i] + oakland_production_cost) * O_adjusted[i] for i in range(len(locations)))\n",
        ")\n",
        "prob_adjusted += total_cost_adjusted\n",
        "\n",
        "# Constraints\n",
        "for i in range(len(locations)):\n",
        "    prob_adjusted += C_adjusted[i] + O_adjusted[i] == demand[i], f\"Demand_{locations[i]}\"\n",
        "prob_adjusted += sum(C_adjusted) <= cincinnati_capacity, \"Cincinnati_Capacity\"\n",
        "\n",
        "# Solve the adjusted problem\n",
        "prob_adjusted.solve()\n",
        "\n",
        "# Display results\n",
        "print(\"Status:\", LpStatus[prob_adjusted.status])\n",
        "print(f\"The total cost after increasing by 20% \\nin freight cost of the Cincinnati to Pendleton path: ${value(prob_adjusted.objective):,.2f}\")\n",
        "print(\"\\nAllocation:\")\n",
        "for i in range(len(locations)):\n",
        "    print(\n",
        "        f\"{locations[i]}: Cincinnati={C_adjusted[i].varValue} gallons, Oakland={O_adjusted[i].varValue} gallons\"\n",
        "    )\n"
      ],
      "metadata": {
        "colab": {
          "base_uri": "https://localhost:8080/"
        },
        "id": "9BjjXeO3a2WM",
        "outputId": "764fc56e-c3ae-418e-befd-c87a8d894c30"
      },
      "execution_count": null,
      "outputs": [
        {
          "output_type": "stream",
          "name": "stdout",
          "text": [
            "Status: Optimal\n",
            "The total cost after increasing by 20% \n",
            "in freight cost of the Cincinnati to Pendleton path: $1,323,344.89\n",
            "\n",
            "Allocation:\n",
            "Santa Ana: Cincinnati=0.0 gallons, Oakland=22418.0 gallons\n",
            "El Paso: Cincinnati=6800.0 gallons, Oakland=0.0 gallons\n",
            "Pendleton: Cincinnati=0.0 gallons, Oakland=80290.0 gallons\n",
            "Houston: Cincinnati=100447.0 gallons, Oakland=0.0 gallons\n",
            "Kansas City: Cincinnati=24570.0 gallons, Oakland=0.0 gallons\n",
            "Los Angeles: Cincinnati=0.0 gallons, Oakland=64761.0 gallons\n",
            "Glendale: Cincinnati=0.0 gallons, Oakland=33689.0 gallons\n",
            "Jacksonville: Cincinnati=68486.0 gallons, Oakland=0.0 gallons\n",
            "Little Rock: Cincinnati=148586.0 gallons, Oakland=0.0 gallons\n",
            "Bridgeport: Cincinnati=111475.0 gallons, Oakland=0.0 gallons\n",
            "Sacramento: Cincinnati=0.0 gallons, Oakland=112000.0 gallons\n"
          ]
        }
      ]
    },
    {
      "cell_type": "code",
      "source": [
        "from pulp import LpProblem, LpMinimize, LpVariable, value, LpStatus\n",
        "\n",
        "# Define original data\n",
        "locations = [\n",
        "    \"Santa Ana\", \"El Paso\", \"Pendleton\", \"Houston\", \"Kansas City\",\n",
        "    \"Los Angeles\", \"Glendale\", \"Jacksonville\", \"Little Rock\", \"Bridgeport\", \"Sacramento\"\n",
        "]\n",
        "demand = [22418, 6800, 80290, 100447, 24570, 64761, 33689, 68486, 148586, 111475, 112000]\n",
        "\n",
        "# Original costs\n",
        "cincinnati_costs = [1000, 0.84, 0.83, 0.45, 0.36, 1000, 1000, 0.34, 0.34, 0.34, 1000]\n",
        "#oakland_costs = [0.22, 0.74, 0.49, 1000, 1000, 0.22, 0.22, 1000, 1000, 1000, 0.15]\n",
        "oakland_costs = [0.22*0.9, 0.74*0.9, 0.49*0.9, 1000, 1000, 0.22*0.9, 0.22*0.9, 1000, 1000, 1000, 0.15*0.9]\n",
        "\n",
        "oakland_production_cost = 1.65\n",
        "cincinnati_production_cost = 1.20*1.1\n",
        "cincinnati_capacity = 500000\n",
        "\n",
        "# Adjust the production cost for Oakland to El Paso by 10%\n",
        "adjusted_oakland_production_costs = oakland_costs.copy()\n",
        "adjusted_oakland_production_costs[locations.index(\"El Paso\")] = oakland_production_cost\n",
        "\n",
        "# Create LP problem\n",
        "prob_adjusted = LpProblem(\"Adjusted_Cost\", LpMinimize)\n",
        "\n",
        "# Decision variables\n",
        "C_adjusted = [LpVariable(f\"C_{loc}\", lowBound=0) for loc in locations]\n",
        "O_adjusted = [LpVariable(f\"O_{loc}\", lowBound=0) for loc in locations]\n",
        "\n",
        "# Objective function: Minimize total cost with adjusted cost\n",
        "total_cost_adjusted = (\n",
        "    sum((cincinnati_costs[i] + cincinnati_production_cost) * C_adjusted[i] for i in range(len(locations)))\n",
        "    + sum((oakland_costs[i] + (adjusted_oakland_production_costs[i] if i == locations.index(\"El Paso\") else oakland_production_cost)) * O_adjusted[i] for i in range(len(locations)))\n",
        ")\n",
        "prob_adjusted += total_cost_adjusted\n",
        "\n",
        "# Constraints\n",
        "for i in range(len(locations)):\n",
        "    prob_adjusted += C_adjusted[i] + O_adjusted[i] == demand[i], f\"Demand_{locations[i]}\"\n",
        "prob_adjusted += sum(C_adjusted) <= cincinnati_capacity, \"Cincinnati_Capacity\"\n",
        "\n",
        "# Solve the adjusted problem\n",
        "prob_adjusted.solve()\n",
        "\n",
        "# Display results\n",
        "print(\"Status:\", LpStatus[prob_adjusted.status])\n",
        "print(f\"The total cost after increasing by 10% in production cost of the Cincinnati\\nand decreasing by 10% in freight costs of Oakland: ${value(prob_adjusted.objective):,.2f}\")\n",
        "print(\"\\nAllocation:\")\n",
        "for i in range(len(locations)):\n",
        "    print(\n",
        "        f\"{locations[i]}: Cincinnati={C_adjusted[i].varValue} gallons, Oakland={O_adjusted[i].varValue} gallons\"\n",
        "    )\n"
      ],
      "metadata": {
        "colab": {
          "base_uri": "https://localhost:8080/"
        },
        "id": "W5R_vFBfgdir",
        "outputId": "158a49d5-75b9-4fdd-cc88-7a1712c3dc30"
      },
      "execution_count": null,
      "outputs": [
        {
          "output_type": "stream",
          "name": "stdout",
          "text": [
            "Status: Optimal\n",
            "The total cost after increasing by 10% in production cost of the Cincinnati\n",
            "and decreasing by 10% in freight costs of Oakland: $1,370,315.26\n",
            "\n",
            "Allocation:\n",
            "Santa Ana: Cincinnati=0.0 gallons, Oakland=22418.0 gallons\n",
            "El Paso: Cincinnati=6800.0 gallons, Oakland=0.0 gallons\n",
            "Pendleton: Cincinnati=0.0 gallons, Oakland=80290.0 gallons\n",
            "Houston: Cincinnati=100447.0 gallons, Oakland=0.0 gallons\n",
            "Kansas City: Cincinnati=24570.0 gallons, Oakland=0.0 gallons\n",
            "Los Angeles: Cincinnati=0.0 gallons, Oakland=64761.0 gallons\n",
            "Glendale: Cincinnati=0.0 gallons, Oakland=33689.0 gallons\n",
            "Jacksonville: Cincinnati=68486.0 gallons, Oakland=0.0 gallons\n",
            "Little Rock: Cincinnati=148586.0 gallons, Oakland=0.0 gallons\n",
            "Bridgeport: Cincinnati=111475.0 gallons, Oakland=0.0 gallons\n",
            "Sacramento: Cincinnati=0.0 gallons, Oakland=112000.0 gallons\n"
          ]
        }
      ]
    },
    {
      "cell_type": "code",
      "source": [
        "from pulp import LpProblem, LpMinimize, LpVariable, value, LpStatus\n",
        "\n",
        "# Define original data\n",
        "locations = [\n",
        "    \"Santa Ana\", \"El Paso\", \"Pendleton\", \"Houston\", \"Kansas City\",\n",
        "    \"Los Angeles\", \"Glendale\", \"Jacksonville\", \"Little Rock\", \"Bridgeport\", \"Sacramento\"\n",
        "]\n",
        "demand = [22418, 6800, 80290, 100447, 24570, 64761, 33689, 68486, 148586, 111475, 112000]\n",
        "\n",
        "# Original costs\n",
        "cincinnati_costs = [1000, 0.84*1.1, 0.83*1.1, 0.45*1.1, 0.36*1.1, 1000, 1000, 0.34*1.1, 0.34*1.1, 0.34*1.1, 1000]\n",
        "#oakland_costs = [0.22, 0.74, 0.49, 1000, 1000, 0.22, 0.22, 1000, 1000, 1000, 0.15]\n",
        "oakland_costs = [0.22*0.9, 0.74*0.9, 0.49*0.9, 1000, 1000, 0.22*0.9, 0.22*0.9, 1000, 1000, 1000, 0.15*0.9]\n",
        "\n",
        "oakland_production_cost = 1.65*0.9\n",
        "cincinnati_production_cost = 1.20*1.1\n",
        "cincinnati_capacity = 500000\n",
        "\n",
        "# Adjust the production cost for Oakland to El Paso by 10%\n",
        "adjusted_oakland_production_costs = oakland_costs.copy()\n",
        "adjusted_oakland_production_costs[locations.index(\"El Paso\")] = oakland_production_cost\n",
        "\n",
        "# Create LP problem\n",
        "prob_adjusted = LpProblem(\"Adjusted_Cost\", LpMinimize)\n",
        "\n",
        "# Decision variables\n",
        "C_adjusted = [LpVariable(f\"C_{loc}\", lowBound=0) for loc in locations]\n",
        "O_adjusted = [LpVariable(f\"O_{loc}\", lowBound=0) for loc in locations]\n",
        "\n",
        "# Objective function: Minimize total cost with adjusted cost\n",
        "total_cost_adjusted = (\n",
        "    sum((cincinnati_costs[i] + cincinnati_production_cost) * C_adjusted[i] for i in range(len(locations)))\n",
        "    + sum((oakland_costs[i] + (adjusted_oakland_production_costs[i] if i == locations.index(\"El Paso\") else oakland_production_cost)) * O_adjusted[i] for i in range(len(locations)))\n",
        ")\n",
        "prob_adjusted += total_cost_adjusted\n",
        "\n",
        "# Constraints\n",
        "for i in range(len(locations)):\n",
        "    prob_adjusted += C_adjusted[i] + O_adjusted[i] == demand[i], f\"Demand_{locations[i]}\"\n",
        "prob_adjusted += sum(C_adjusted) <= cincinnati_capacity, \"Cincinnati_Capacity\"\n",
        "\n",
        "# Solve the adjusted problem\n",
        "prob_adjusted.solve()\n",
        "\n",
        "# Display results\n",
        "print(\"Status:\", LpStatus[prob_adjusted.status])\n",
        "print(f\"The total cost after increasing by 10% in production cost and freight costs of the Cincinnati\\nand decreasing by 10% in production cost and freight costs of Oakland: ${value(prob_adjusted.objective):,.2f}\")\n",
        "print(\"\\nAllocation:\")\n",
        "for i in range(len(locations)):\n",
        "    print(\n",
        "        f\"{locations[i]}: Cincinnati={C_adjusted[i].varValue} gallons, Oakland={O_adjusted[i].varValue} gallons\"\n",
        "    )\n"
      ],
      "metadata": {
        "colab": {
          "base_uri": "https://localhost:8080/"
        },
        "id": "Wziv7OEAZu9b",
        "outputId": "697cc3b9-656e-480f-f8bb-a65e3bab6b8d"
      },
      "execution_count": null,
      "outputs": [
        {
          "output_type": "stream",
          "name": "stdout",
          "text": [
            "Status: Optimal\n",
            "The total cost after increasing by 10% in production cost and freight costs of the Cincinnati\n",
            "and decreasing by 10% in production cost and freight costs of Oakland: $1,335,158.23\n",
            "\n",
            "Allocation:\n",
            "Santa Ana: Cincinnati=0.0 gallons, Oakland=22418.0 gallons\n",
            "El Paso: Cincinnati=0.0 gallons, Oakland=6800.0 gallons\n",
            "Pendleton: Cincinnati=0.0 gallons, Oakland=80290.0 gallons\n",
            "Houston: Cincinnati=100447.0 gallons, Oakland=0.0 gallons\n",
            "Kansas City: Cincinnati=24570.0 gallons, Oakland=0.0 gallons\n",
            "Los Angeles: Cincinnati=0.0 gallons, Oakland=64761.0 gallons\n",
            "Glendale: Cincinnati=0.0 gallons, Oakland=33689.0 gallons\n",
            "Jacksonville: Cincinnati=68486.0 gallons, Oakland=0.0 gallons\n",
            "Little Rock: Cincinnati=148586.0 gallons, Oakland=0.0 gallons\n",
            "Bridgeport: Cincinnati=111475.0 gallons, Oakland=0.0 gallons\n",
            "Sacramento: Cincinnati=0.0 gallons, Oakland=112000.0 gallons\n"
          ]
        }
      ]
    }
  ]
}