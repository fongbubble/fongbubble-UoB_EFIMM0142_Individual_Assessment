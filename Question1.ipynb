{
  "nbformat": 4,
  "nbformat_minor": 0,
  "metadata": {
    "colab": {
      "provenance": [],
      "authorship_tag": "ABX9TyO/dJPBF+26aBVPWRI+03YJ",
      "include_colab_link": true
    },
    "kernelspec": {
      "name": "python3",
      "display_name": "Python 3"
    },
    "language_info": {
      "name": "python"
    }
  },
  "cells": [
    {
      "cell_type": "markdown",
      "metadata": {
        "id": "view-in-github",
        "colab_type": "text"
      },
      "source": [
        "<a href=\"https://colab.research.google.com/github/fongbubble/fongbubble_UoB_EFIMM0142_Individual_Assessment/blob/main/Question1.ipynb\" target=\"_parent\"><img src=\"https://colab.research.google.com/assets/colab-badge.svg\" alt=\"Open In Colab\"/></a>"
      ]
    },
    {
      "cell_type": "markdown",
      "source": [
        "# Packages"
      ],
      "metadata": {
        "id": "aIkv43eEAGCa"
      }
    },
    {
      "cell_type": "code",
      "execution_count": null,
      "metadata": {
        "colab": {
          "base_uri": "https://localhost:8080/"
        },
        "id": "WxiOpexqX0G6",
        "outputId": "4642d297-0be2-484a-95c5-24e83aa503cd"
      },
      "outputs": [
        {
          "output_type": "stream",
          "name": "stdout",
          "text": [
            "Requirement already satisfied: pulp in /usr/local/lib/python3.10/dist-packages (2.9.0)\n"
          ]
        }
      ],
      "source": [
        "!pip install pulp\n",
        "from pulp import *"
      ]
    },
    {
      "cell_type": "markdown",
      "source": [
        "# Question 1"
      ],
      "metadata": {
        "id": "arm96NlnAJ9j"
      }
    },
    {
      "cell_type": "markdown",
      "source": [
        "## Question 1.a"
      ],
      "metadata": {
        "id": "4tKsjX06AVnX"
      }
    },
    {
      "cell_type": "code",
      "source": [
        "# Define the problem\n",
        "model = LpProblem(\"Question1_a\", LpMinimize)\n",
        "\n",
        "# Parameters\n",
        "products = [\"A\", \"B\", \"C\"]\n",
        "months = [\"1\", \"2\", \"3\", \"4\"]\n",
        "production_cost = {\"A\": 20, \"B\": 30, \"C\": 10}\n",
        "holding_cost = {\"A\": 1, \"B\": 2, \"C\": 0.5}\n",
        "production_hours = {\"A\": 1.2, \"B\": 1.3, \"C\": 1}\n",
        "available_hours = {\"1\": 500, \"2\": 450, \"3\": 400, \"4\": 350}\n",
        "demand = {\n",
        "    \"1\": {\"A\": 100, \"B\": 80, \"C\": 120},\n",
        "    \"2\": {\"A\": 110, \"B\": 90, \"C\": 130},\n",
        "    \"3\": {\"A\": 120, \"B\": 100, \"C\": 140},\n",
        "    \"4\": {\"A\": 130, \"B\": 110, \"C\": 150},\n",
        "}\n",
        "\n",
        "# Decision Variables\n",
        "P = {(p, m): LpVariable(f\"P_{p}_{m}\", lowBound=0, cat=\"Integer\") for p in products for m in months}\n",
        "I = {(p, m): LpVariable(f\"I_{p}_{m}\", lowBound=0, cat=\"Continuous\") for p in products for m in months}\n",
        "\n",
        "# Objective Function: Minimize total production and holding costs\n",
        "model += lpSum(production_cost[p] * P[p, m] + holding_cost[p] * I[p, m] for p in products for m in months)\n",
        "\n",
        "# Constraints\n",
        "\n",
        "# Production and Inventory Balance (strict equality)\n",
        "for p in products:\n",
        "    for i, m in enumerate(months):\n",
        "        prev_inventory = I[p, months[i - 1]] if i > 0 else 0\n",
        "        model += P[p, m] + prev_inventory == demand[m][p] + I[p, m]\n",
        "\n",
        "# Production Hours Limit\n",
        "for m in months:\n",
        "    model += lpSum(production_hours[p] * P[p, m] for p in products) <= available_hours[m]\n",
        "\n",
        "# Explicitly ensure P and I are non-negative for all months except m = 3\n",
        "for p in products:\n",
        "    for m in months:\n",
        "        if m != \"4\":  # Exclude month 3\n",
        "            model += P[p, m] >= 0\n",
        "            model += I[p, m] >= 0\n",
        "\n",
        "# Solve the problem\n",
        "model.solve()\n",
        "\n",
        "# Print results\n",
        "print(\"Status:\", LpStatus[model.status])\n",
        "print(\"Optimal Solution:\")\n",
        "for p in products:\n",
        "    for m in months:\n",
        "        print(f\"{p} - {m}: Produce = {P[p, m].varValue}, Inventory = {I[p, m].varValue}\")\n",
        "\n",
        "# Calculate total cost for each product\n",
        "product_costs = {p: 0 for p in products}\n",
        "\n",
        "# Add production and holding costs for each product\n",
        "for p in products:\n",
        "    production_cost_sum = sum(\n",
        "        production_cost[p] * P[p, m].varValue for m in months\n",
        "    )\n",
        "    holding_cost_sum = sum(\n",
        "        holding_cost[p] * I[p, m].varValue for m in months\n",
        "    )\n",
        "\n",
        "    # Store total cost for the product\n",
        "    product_costs[p] = production_cost_sum + holding_cost_sum\n",
        "\n",
        "# Print total costs for each product\n",
        "print(\"\\nTotal Cost Breakdown by Product:\")\n",
        "for p in products:\n",
        "    print(f\"Product {p}: £{product_costs[p]:.2f}\")\n",
        "\n",
        "# Optional: Print the overall total cost (should match model.objective.value())\n",
        "overall_cost = sum(product_costs[p] for p in products)\n",
        "print(f\"\\nOverall Total Cost: £{overall_cost:.2f}\")\n"
      ],
      "metadata": {
        "colab": {
          "base_uri": "https://localhost:8080/"
        },
        "id": "k61YOIe3X7jO",
        "outputId": "1ca70119-acde-471e-9d31-230b3f16fdf2"
      },
      "execution_count": null,
      "outputs": [
        {
          "output_type": "stream",
          "name": "stdout",
          "text": [
            "Status: Optimal\n",
            "Optimal Solution:\n",
            "A - 1: Produce = 100.0, Inventory = 0.0\n",
            "A - 2: Produce = 110.0, Inventory = 0.0\n",
            "A - 3: Produce = 120.0, Inventory = 0.0\n",
            "A - 4: Produce = 130.0, Inventory = 0.0\n",
            "B - 1: Produce = 80.0, Inventory = 0.0\n",
            "B - 2: Produce = 90.0, Inventory = 0.0\n",
            "B - 3: Produce = 100.0, Inventory = 0.0\n",
            "B - 4: Produce = 110.0, Inventory = 0.0\n",
            "C - 1: Produce = 162.0, Inventory = 42.0\n",
            "C - 2: Produce = 201.0, Inventory = 113.0\n",
            "C - 3: Produce = 126.0, Inventory = 99.0\n",
            "C - 4: Produce = 51.0, Inventory = 0.0\n",
            "\n",
            "Total Cost Breakdown by Product:\n",
            "Product A: £9200.00\n",
            "Product B: £11400.00\n",
            "Product C: £5527.00\n",
            "\n",
            "Overall Total Cost: £26127.00\n"
          ]
        }
      ]
    },
    {
      "cell_type": "markdown",
      "source": [
        "## Question 1.b"
      ],
      "metadata": {
        "id": "gQL98w0VAdHV"
      }
    },
    {
      "cell_type": "code",
      "source": [
        "# Define the problem\n",
        "modelb = LpProblem(\"Question1_b\", LpMinimize)\n",
        "\n",
        "# Parameters\n",
        "products = [\"A\", \"B\", \"C\"]\n",
        "months = [\"1\", \"2\", \"3\", \"4\"]\n",
        "production_cost = {\"A\": 20, \"B\": 30, \"C\": 10}\n",
        "holding_cost = {\"A\": 1, \"B\": 2, \"C\": 0.5}\n",
        "production_hours = {\"A\": 1.2, \"B\": 1.3, \"C\": 1}\n",
        "available_hours = {\"1\": 500, \"2\": 450, \"3\": 400, \"4\": 350}\n",
        "demand = {\n",
        "    \"1\": {\"A\": 100, \"B\": 80, \"C\": 120},\n",
        "    \"2\": {\"A\": 110, \"B\": 90, \"C\": 130},\n",
        "    \"3\": {\"A\": 120, \"B\": 100, \"C\": 140},\n",
        "    \"4\": {\"A\": 130, \"B\": 110, \"C\": 150},\n",
        "}\n",
        "\n",
        "# Decision Variables\n",
        "P = {(p, m): LpVariable(f\"P_{p}_{m}\", lowBound=0, cat=\"Integer\") for p in products for m in months}\n",
        "I = {(p, m): LpVariable(f\"I_{p}_{m}\", lowBound=0, cat=\"Continuous\") for p in products for m in months}\n",
        "\n",
        "# Objective Function: Adjust cost for P_B_3 to 35 instead of 30\n",
        "modelb += lpSum(\n",
        "    production_cost[p] * P[p, m] + holding_cost[p] * I[p, m]\n",
        "    for p in products for m in months\n",
        "    if not (p == \"B\" and m == \"3\")\n",
        ") + 35 * P[\"B\", \"3\"]  # Add the adjusted cost for P_B_3\n",
        "\n",
        "# Constraints\n",
        "# Production and Inventory Balance (strict equality)\n",
        "for p in products:\n",
        "    for i, m in enumerate(months):\n",
        "        prev_inventory = I[p, months[i - 1]] if i > 0 else 0\n",
        "        modelb += P[p, m] + prev_inventory == demand[m][p] + I[p, m]\n",
        "\n",
        "# Production Hours Limit\n",
        "for m in months:\n",
        "    modelb += lpSum(production_hours[p] * P[p, m] for p in products) <= available_hours[m]\n",
        "\n",
        "# Explicitly ensure P and I are non-negative for all months except m = 3\n",
        "for p in products:\n",
        "    for m in months:\n",
        "        if m != \"4\":  # Exclude month 4\n",
        "            modelb += P[p, m] >= 0\n",
        "            modelb += I[p, m] >= 0\n",
        "\n",
        "# Solve the problem\n",
        "modelb.solve()\n",
        "\n",
        "# Print results\n",
        "print(\"Status:\", LpStatus[modelb.status])\n",
        "print(\"Optimal Solution:\")\n",
        "for p in products:\n",
        "    for m in months:\n",
        "        print(f\"{p} - {m}: Produce = {P[p, m].varValue}, Inventory = {I[p, m].varValue}\")\n",
        "\n",
        "# Calculate total cost for each product\n",
        "product_costs = {p: 0 for p in products}\n",
        "\n",
        "# Add production and holding costs for each product\n",
        "for p in products:\n",
        "    production_cost_sum = sum(\n",
        "        production_cost[p] * P[p, m].varValue for m in months\n",
        "    )\n",
        "    holding_cost_sum = sum(\n",
        "        holding_cost[p] * I[p, m].varValue for m in months\n",
        "    )\n",
        "    # Adjust for specific product and month cost if needed\n",
        "    if p == \"B\":\n",
        "        production_cost_sum += 5 * P[\"B\", \"3\"].varValue  # Adjusted cost for P_B_3\n",
        "\n",
        "    # Store total cost for the product\n",
        "    product_costs[p] = production_cost_sum + holding_cost_sum\n",
        "\n",
        "# Print total costs for each product\n",
        "print(\"\\nTotal Cost Breakdown by Product after adjusting P_B_3:\")\n",
        "for p in products:\n",
        "    print(f\"Product {p}: £{product_costs[p]:.2f}\")\n",
        "\n",
        "# Optional: Print the overall total cost (should match model.objective.value())\n",
        "overall_cost = sum(product_costs[p] for p in products)\n",
        "print(f\"\\nOverall Total Cost: £{overall_cost:.2f}\")"
      ],
      "metadata": {
        "colab": {
          "base_uri": "https://localhost:8080/"
        },
        "id": "O4x2CcOC8wrE",
        "outputId": "069eb769-2ff6-4868-ec7c-8fc2b9a80b79"
      },
      "execution_count": null,
      "outputs": [
        {
          "output_type": "stream",
          "name": "stdout",
          "text": [
            "Status: Optimal\n",
            "Optimal Solution:\n",
            "A - 1: Produce = 100.0, Inventory = 0.0\n",
            "A - 2: Produce = 110.0, Inventory = 0.0\n",
            "A - 3: Produce = 120.0, Inventory = 0.0\n",
            "A - 4: Produce = 130.0, Inventory = 0.0\n",
            "B - 1: Produce = 80.0, Inventory = 0.0\n",
            "B - 2: Produce = 190.0, Inventory = 100.0\n",
            "B - 3: Produce = 0.0, Inventory = 0.0\n",
            "B - 4: Produce = 110.0, Inventory = 0.0\n",
            "C - 1: Produce = 179.0, Inventory = 59.0\n",
            "C - 2: Produce = 71.0, Inventory = 0.0\n",
            "C - 3: Produce = 239.0, Inventory = 99.0\n",
            "C - 4: Produce = 51.0, Inventory = 0.0\n",
            "\n",
            "Total Cost Breakdown by Product after adjusting P_B_3:\n",
            "Product A: £9200.00\n",
            "Product B: £11600.00\n",
            "Product C: £5479.00\n",
            "\n",
            "Overall Total Cost: £26279.00\n"
          ]
        }
      ]
    },
    {
      "cell_type": "markdown",
      "source": [
        "## Question 1.c"
      ],
      "metadata": {
        "id": "e70a4cpaAiEM"
      }
    },
    {
      "cell_type": "code",
      "source": [
        "# Re-solve the model\n",
        "model = LpProblem(\"Question1_a_updated\", LpMinimize)\n",
        "\n",
        "# Re-define the Objective Function\n",
        "model += lpSum(production_cost[p] * P[p, m] + holding_cost[p] * I[p, m] for p in products for m in months)\n",
        "\n",
        "# Update the demand for product C in month 4\n",
        "demand[\"4\"][\"C\"] += 20  # Increase demand by 20 units\n",
        "\n",
        "# Re-define Constraints\n",
        "for p in products:\n",
        "    for i, m in enumerate(months):\n",
        "        prev_inventory = I[p, months[i - 1]] if i > 0 else 0\n",
        "        model += P[p, m] + prev_inventory == demand[m][p] + I[p, m]\n",
        "\n",
        "for m in months:\n",
        "    model += lpSum(production_hours[p] * P[p, m] for p in products) <= available_hours[m]\n",
        "\n",
        "for p in products:\n",
        "    for m in months:\n",
        "        if m != \"4\":\n",
        "            model += P[p, m] >= 0\n",
        "            model += I[p, m] >= 0\n",
        "\n",
        "# Solve the updated model\n",
        "model.solve()\n",
        "\n",
        "# Print updated results\n",
        "print(\"Status:\", LpStatus[model.status])\n",
        "print(\"Updated Optimal Solution:\")\n",
        "for p in products:\n",
        "    for m in months:\n",
        "        print(f\"{p} - {m}: Produce = {P[p, m].varValue}, Inventory = {I[p, m].varValue}\")\n",
        "\n",
        "# Add production and holding costs for each product\n",
        "for p in products:\n",
        "    production_cost_sum = sum(\n",
        "        production_cost[p] * P[p, m].varValue for m in months\n",
        "    )\n",
        "    holding_cost_sum = sum(\n",
        "        holding_cost[p] * I[p, m].varValue for m in months\n",
        "    )\n",
        "    # Adjust for specific product and month cost if needed\n",
        "\n",
        "    # Store total cost for the product\n",
        "    product_costs[p] = production_cost_sum + holding_cost_sum\n",
        "\n",
        "# Print total costs for each product\n",
        "print(\"\\nTotal Cost Breakdown by Product:\")\n",
        "for p in products:\n",
        "    print(f\"Product {p}: £{product_costs[p]:.2f}\")\n",
        "\n",
        "# Optional: Print the overall total cost (should match model.objective.value())\n",
        "overall_cost = sum(product_costs[p] for p in products)\n",
        "print(f\"\\nOverall Total Cost: £{overall_cost:.2f}\")"
      ],
      "metadata": {
        "colab": {
          "base_uri": "https://localhost:8080/"
        },
        "id": "hlM6vSGPdLYk",
        "outputId": "2da2cc79-b226-437f-aca3-7d349cce769b"
      },
      "execution_count": null,
      "outputs": [
        {
          "output_type": "stream",
          "name": "stdout",
          "text": [
            "Status: Optimal\n",
            "Updated Optimal Solution:\n",
            "A - 1: Produce = 100.0, Inventory = 0.0\n",
            "A - 2: Produce = 110.0, Inventory = 0.0\n",
            "A - 3: Produce = 120.0, Inventory = 0.0\n",
            "A - 4: Produce = 130.0, Inventory = 0.0\n",
            "B - 1: Produce = 80.0, Inventory = 0.0\n",
            "B - 2: Produce = 90.0, Inventory = 0.0\n",
            "B - 3: Produce = 100.0, Inventory = 0.0\n",
            "B - 4: Produce = 110.0, Inventory = 0.0\n",
            "C - 1: Produce = 182.0, Inventory = 62.0\n",
            "C - 2: Produce = 201.0, Inventory = 133.0\n",
            "C - 3: Produce = 126.0, Inventory = 119.0\n",
            "C - 4: Produce = 51.0, Inventory = 0.0\n",
            "\n",
            "Total Cost Breakdown by Product:\n",
            "Product A: £9200.00\n",
            "Product B: £11400.00\n",
            "Product C: £5757.00\n",
            "\n",
            "Overall Total Cost: £26357.00\n",
            "Total Cost: £26357.0\n"
          ]
        }
      ]
    },
    {
      "cell_type": "code",
      "source": [
        "model"
      ],
      "metadata": {
        "colab": {
          "base_uri": "https://localhost:8080/"
        },
        "id": "QT8txcOjAkgZ",
        "outputId": "c9b8c8e9-627c-498c-8879-4f09dbb09cbc"
      },
      "execution_count": null,
      "outputs": [
        {
          "output_type": "execute_result",
          "data": {
            "text/plain": [
              "Question1_a_updated:\n",
              "MINIMIZE\n",
              "1*I_A_1 + 1*I_A_2 + 1*I_A_3 + 1*I_A_4 + 2*I_B_1 + 2*I_B_2 + 2*I_B_3 + 2*I_B_4 + 0.5*I_C_1 + 0.5*I_C_2 + 0.5*I_C_3 + 0.5*I_C_4 + 20*P_A_1 + 20*P_A_2 + 20*P_A_3 + 20*P_A_4 + 30*P_B_1 + 30*P_B_2 + 30*P_B_3 + 30*P_B_4 + 10*P_C_1 + 10*P_C_2 + 10*P_C_3 + 10*P_C_4 + 0.0\n",
              "SUBJECT TO\n",
              "_C1: - I_A_1 + P_A_1 = 100\n",
              "\n",
              "_C2: I_A_1 - I_A_2 + P_A_2 = 110\n",
              "\n",
              "_C3: I_A_2 - I_A_3 + P_A_3 = 120\n",
              "\n",
              "_C4: I_A_3 - I_A_4 + P_A_4 = 130\n",
              "\n",
              "_C5: - I_B_1 + P_B_1 = 80\n",
              "\n",
              "_C6: I_B_1 - I_B_2 + P_B_2 = 90\n",
              "\n",
              "_C7: I_B_2 - I_B_3 + P_B_3 = 100\n",
              "\n",
              "_C8: I_B_3 - I_B_4 + P_B_4 = 110\n",
              "\n",
              "_C9: - I_C_1 + P_C_1 = 120\n",
              "\n",
              "_C10: I_C_1 - I_C_2 + P_C_2 = 130\n",
              "\n",
              "_C11: I_C_2 - I_C_3 + P_C_3 = 140\n",
              "\n",
              "_C12: I_C_3 - I_C_4 + P_C_4 = 170\n",
              "\n",
              "_C13: 1.2 P_A_1 + 1.3 P_B_1 + P_C_1 <= 500\n",
              "\n",
              "_C14: 1.2 P_A_2 + 1.3 P_B_2 + P_C_2 <= 450\n",
              "\n",
              "_C15: 1.2 P_A_3 + 1.3 P_B_3 + P_C_3 <= 400\n",
              "\n",
              "_C16: 1.2 P_A_4 + 1.3 P_B_4 + P_C_4 <= 350\n",
              "\n",
              "_C17: P_A_1 >= 0\n",
              "\n",
              "_C18: I_A_1 >= 0\n",
              "\n",
              "_C19: P_A_2 >= 0\n",
              "\n",
              "_C20: I_A_2 >= 0\n",
              "\n",
              "_C21: P_A_3 >= 0\n",
              "\n",
              "_C22: I_A_3 >= 0\n",
              "\n",
              "_C23: P_B_1 >= 0\n",
              "\n",
              "_C24: I_B_1 >= 0\n",
              "\n",
              "_C25: P_B_2 >= 0\n",
              "\n",
              "_C26: I_B_2 >= 0\n",
              "\n",
              "_C27: P_B_3 >= 0\n",
              "\n",
              "_C28: I_B_3 >= 0\n",
              "\n",
              "_C29: P_C_1 >= 0\n",
              "\n",
              "_C30: I_C_1 >= 0\n",
              "\n",
              "_C31: P_C_2 >= 0\n",
              "\n",
              "_C32: I_C_2 >= 0\n",
              "\n",
              "_C33: P_C_3 >= 0\n",
              "\n",
              "_C34: I_C_3 >= 0\n",
              "\n",
              "VARIABLES\n",
              "I_A_1 Continuous\n",
              "I_A_2 Continuous\n",
              "I_A_3 Continuous\n",
              "I_A_4 Continuous\n",
              "I_B_1 Continuous\n",
              "I_B_2 Continuous\n",
              "I_B_3 Continuous\n",
              "I_B_4 Continuous\n",
              "I_C_1 Continuous\n",
              "I_C_2 Continuous\n",
              "I_C_3 Continuous\n",
              "I_C_4 Continuous\n",
              "0 <= P_A_1 Integer\n",
              "0 <= P_A_2 Integer\n",
              "0 <= P_A_3 Integer\n",
              "0 <= P_A_4 Integer\n",
              "0 <= P_B_1 Integer\n",
              "0 <= P_B_2 Integer\n",
              "0 <= P_B_3 Integer\n",
              "0 <= P_B_4 Integer\n",
              "0 <= P_C_1 Integer\n",
              "0 <= P_C_2 Integer\n",
              "0 <= P_C_3 Integer\n",
              "0 <= P_C_4 Integer"
            ]
          },
          "metadata": {},
          "execution_count": 52
        }
      ]
    },
    {
      "cell_type": "markdown",
      "source": [
        "## Question 1.d"
      ],
      "metadata": {
        "id": "YshG4sUEAl5j"
      }
    },
    {
      "cell_type": "code",
      "source": [
        "# Define the problem\n",
        "model = LpProblem(\"Question1_d\", LpMinimize)\n",
        "\n",
        "# Parameters\n",
        "products = [\"A\", \"B\", \"C\"]\n",
        "months = [\"1\", \"2\", \"3\", \"4\"]\n",
        "production_cost = {\"A\": 20, \"B\": 30, \"C\": 10}\n",
        "holding_cost = {\"A\": 1, \"B\": 2, \"C\": 0.5}\n",
        "production_hours = {\"A\": 1.2, \"B\": 1.3, \"C\": 1}\n",
        "available_hours = {\"1\": 500, \"2\": 450, \"3\": 400, \"4\": 350}\n",
        "demand = {\n",
        "    \"1\": {\"A\": 100, \"B\": 80, \"C\": 120},\n",
        "    \"2\": {\"A\": 110, \"B\": 90, \"C\": 130},\n",
        "    \"3\": {\"A\": 120, \"B\": 100, \"C\": 140},\n",
        "    \"4\": {\"A\": 130, \"B\": 110, \"C\": 150},\n",
        "}\n",
        "\n",
        "# Decision Variables\n",
        "P = {(p, m): LpVariable(f\"P_{p}_{m}\", lowBound=0, cat=\"Integer\") for p in products for m in months}\n",
        "I = {(p, m): LpVariable(f\"I_{p}_{m}\", lowBound=0, cat=\"Continuous\") for p in products for m in months}\n",
        "\n",
        "# Objective Function: Minimize total production and holding costs\n",
        "model += lpSum(production_cost[p] * P[p, m] + holding_cost[p] * I[p, m] for p in products for m in months)\n",
        "\n",
        "# Constraints\n",
        "# Production and Inventory Balance (strict equality)\n",
        "for p in products:\n",
        "    for i, m in enumerate(months):\n",
        "        prev_inventory = I[p, months[i - 1]] if i > 0 else 0\n",
        "        model += P[p, m] + prev_inventory == demand[m][p] + I[p, m]\n",
        "\n",
        "# Production Hours Limit\n",
        "for m in months:\n",
        "    model += lpSum(production_hours[p] * P[p, m] for p in products) <= available_hours[m]\n",
        "\n",
        "# Inventory Holding cost not exceeding £500\n",
        "model += lpSum(holding_cost[p] * I[p, m] for p in products for m in months) <= 500\n",
        "\n",
        "# Solve the problem\n",
        "model.solve()\n",
        "\n",
        "# Print results\n",
        "print(\"Status:\", LpStatus[model.status])\n",
        "print(\"Optimal Solution:\")\n",
        "for p in products:\n",
        "    for m in months:\n",
        "        print(f\"{p} - {m}: Produce = {P[p, m].varValue}, Inventory = {I[p, m].varValue}\")\n",
        "\n",
        "# Calculate total costs for each product\n",
        "product_costs = {p: 0 for p in products}\n",
        "\n",
        "for p in products:\n",
        "    production_cost_sum = sum(\n",
        "        production_cost[p] * P[p, m].varValue for m in months\n",
        "    )\n",
        "    holding_cost_sum = sum(\n",
        "        holding_cost[p] * I[p, m].varValue for m in months\n",
        "    )\n",
        "    product_costs[p] = production_cost_sum + holding_cost_sum\n",
        "\n",
        "# Print total costs for each product\n",
        "print(\"\\nTotal Cost Breakdown by Product:\")\n",
        "for p in products:\n",
        "    print(f\"Product {p}: £{product_costs[p]:.2f}\")\n",
        "\n",
        "# Calculate and print total holding cost\n",
        "total_holding_cost = sum(\n",
        "    holding_cost[p] * I[p, m].varValue for p in products for m in months\n",
        ")\n",
        "print(f\"\\nTotal Holding Cost: £{total_holding_cost:.2f}\")\n",
        "\n",
        "# Optional: Print the overall total cost (should match model.objective.value())\n",
        "overall_cost = sum(product_costs[p] for p in products)\n",
        "print(f\"\\nOverall Total Cost: £{overall_cost:.2f}\")\n"
      ],
      "metadata": {
        "colab": {
          "base_uri": "https://localhost:8080/"
        },
        "id": "vSJx9Gze94Je",
        "outputId": "9615c153-1887-443f-bff2-2967ea431dd7"
      },
      "execution_count": null,
      "outputs": [
        {
          "output_type": "stream",
          "name": "stdout",
          "text": [
            "Status: Optimal\n",
            "Optimal Solution:\n",
            "A - 1: Produce = 100.0, Inventory = 0.0\n",
            "A - 2: Produce = 110.0, Inventory = 0.0\n",
            "A - 3: Produce = 120.0, Inventory = 0.0\n",
            "A - 4: Produce = 130.0, Inventory = 0.0\n",
            "B - 1: Produce = 80.0, Inventory = 0.0\n",
            "B - 2: Produce = 90.0, Inventory = 0.0\n",
            "B - 3: Produce = 100.0, Inventory = 0.0\n",
            "B - 4: Produce = 110.0, Inventory = 0.0\n",
            "C - 1: Produce = 162.0, Inventory = 42.0\n",
            "C - 2: Produce = 201.0, Inventory = 113.0\n",
            "C - 3: Produce = 126.0, Inventory = 99.0\n",
            "C - 4: Produce = 51.0, Inventory = 0.0\n",
            "\n",
            "Total Cost Breakdown by Product:\n",
            "Product A: £9200.00\n",
            "Product B: £11400.00\n",
            "Product C: £5527.00\n",
            "\n",
            "Total Holding Cost: £127.00\n",
            "\n",
            "Overall Total Cost: £26127.00\n"
          ]
        }
      ]
    }
  ]
}