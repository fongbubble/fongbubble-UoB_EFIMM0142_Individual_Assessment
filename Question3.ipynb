{
  "nbformat": 4,
  "nbformat_minor": 0,
  "metadata": {
    "colab": {
      "provenance": [],
      "collapsed_sections": [
        "d2CPWVgBgLhs"
      ],
      "authorship_tag": "ABX9TyN8N7TI5tvnP1q6GHqn8MvP",
      "include_colab_link": true
    },
    "kernelspec": {
      "name": "python3",
      "display_name": "Python 3"
    },
    "language_info": {
      "name": "python"
    }
  },
  "cells": [
    {
      "cell_type": "markdown",
      "metadata": {
        "id": "view-in-github",
        "colab_type": "text"
      },
      "source": [
        "<a href=\"https://colab.research.google.com/github/fongbubble/fongbubble-UoB_EFIMM0142_Individual_Assessment/blob/main/Question3.ipynb\" target=\"_parent\"><img src=\"https://colab.research.google.com/assets/colab-badge.svg\" alt=\"Open In Colab\"/></a>"
      ]
    },
    {
      "cell_type": "markdown",
      "source": [
        "# Packages"
      ],
      "metadata": {
        "id": "d2CPWVgBgLhs"
      }
    },
    {
      "cell_type": "code",
      "execution_count": null,
      "metadata": {
        "colab": {
          "base_uri": "https://localhost:8080/"
        },
        "id": "q4294H1HgJ_Q",
        "outputId": "1e797338-bedf-441c-f066-60549e5b1831"
      },
      "outputs": [
        {
          "output_type": "stream",
          "name": "stdout",
          "text": [
            "Collecting pulp\n",
            "  Downloading PuLP-2.9.0-py3-none-any.whl.metadata (5.4 kB)\n",
            "Downloading PuLP-2.9.0-py3-none-any.whl (17.7 MB)\n",
            "\u001b[2K   \u001b[90m━━━━━━━━━━━━━━━━━━━━━━━━━━━━━━━━━━━━━━━━\u001b[0m \u001b[32m17.7/17.7 MB\u001b[0m \u001b[31m11.4 MB/s\u001b[0m eta \u001b[36m0:00:00\u001b[0m\n",
            "\u001b[?25hInstalling collected packages: pulp\n",
            "Successfully installed pulp-2.9.0\n"
          ]
        }
      ],
      "source": [
        "!pip install pulp\n",
        "from pulp import *"
      ]
    },
    {
      "cell_type": "markdown",
      "source": [
        "# Question 3"
      ],
      "metadata": {
        "id": "D8dOeRANiQh1"
      }
    },
    {
      "cell_type": "markdown",
      "source": [
        "## Question 3.a"
      ],
      "metadata": {
        "id": "HFJBtbmTiULU"
      }
    },
    {
      "cell_type": "code",
      "source": [
        "# Define the problem\n",
        "problem = pulp.LpProblem(\"Goal_Programming\", LpMinimize)\n",
        "\n",
        "# Decision variables\n",
        "G = pulp.LpVariable(\"G\", lowBound=0)  # Gas tax rate (in cents per gallon)\n",
        "T1 = pulp.LpVariable(\"T1\", lowBound=0)  # Tax rate on income up to $30,000 (in %)\n",
        "T2 = pulp.LpVariable(\"T2\", lowBound=0)  # Tax rate on income over $30,000 (in %)\n",
        "C = pulp.LpVariable(\"C\", lowBound=0)  # Spending cut (in billions)\n",
        "\n",
        "# Deviational variables for goal programming\n",
        "d1_plus = pulp.LpVariable(\"d1_plus\", lowBound=0)  # Positive deviation for budget balance\n",
        "d1_minus = pulp.LpVariable(\"d1_minus\", lowBound=0)  # Negative deviation for budget balance\n",
        "\n",
        "d2_plus = pulp.LpVariable(\"d2_plus\", lowBound=0)  # Positive deviation for spending cut\n",
        "d2_minus = pulp.LpVariable(\"d2_minus\", lowBound=0)  # Negative deviation for spending cut\n",
        "\n",
        "d3_plus = pulp.LpVariable(\"d3_plus\", lowBound=0)  # Positive deviation for upper-class tax limit\n",
        "d3_minus = pulp.LpVariable(\"d3_minus\", lowBound=0)  # Negative deviation for upper-class tax limit\n",
        "\n",
        "d4_plus = pulp.LpVariable(\"d4_plus\", lowBound=0)  # Positive deviation for lower-class tax limit\n",
        "d4_minus = pulp.LpVariable(\"d4_minus\", lowBound=0)  # Negative deviation for lower-class tax limit\n",
        "\n",
        "# Objective: Minimize deviations in preemptive order of priority\n",
        "problem += d1_minus + d2_plus + d3_plus + d4_plus, \"Total_Deviations\"\n",
        "\n",
        "#problem += 1000 * (d1_minus + d1_plus) + 100 * (d2_minus + d2_plus) + 10 * (d3_plus + d3_minus) + (d4_plus + d4_minus), \"Total_Deviations\"\n",
        "#problem += (d1_minus + d1_plus) + (d2_minus + d2_plus) + (d3_plus + d3_minus) + (d4_plus + d4_minus), \"Total_Deviations\"\n",
        "\n",
        "# Constraints\n",
        "\n",
        "# Goal 1: Budget Balance\n",
        "problem += G * 1.5 + 25 * T1 + 15 * T2 + C - d1_plus + d1_minus == 1000, \"Budget_Balance\"\n",
        "\n",
        "# Goal 2: Spending Cut\n",
        "problem += C - d2_plus + d2_minus == 150, \"Spending_Cut\"\n",
        "\n",
        "# Goal 3: Upper-Class Tax Limit\n",
        "problem += 0.5 * G + 5 * T1 + 15 * T2 - d3_plus + d3_minus == 550, \"Upper_Class_Tax_Limit\"\n",
        "\n",
        "# Goal 4: Lower-Class Tax Limit\n",
        "problem += G + 20 * T1 - d4_plus + d4_minus == 350, \"Lower_Class_Tax_Limit\"\n",
        "\n",
        "# Tax Rate Constraint\n",
        "problem += T2 >= T1, \"Tax_Rate_Constraint\"\n",
        "\n",
        "# Solve the problem\n",
        "#solver = pulp.PULP_CBC_CMD(msg=0)\n",
        "problem.solve()\n",
        "\n",
        "# Calculate total revenue\n",
        "revenue = G.varValue * 1.5 + 25 * T1.varValue + 15 * T2.varValue\n",
        "\n",
        "# Display results\n",
        "print(f\"Status: {LpStatus[problem.status]}\")\n",
        "print(f\"Objective Value (Total Weighted Deviations): {pulp.value(problem.objective)}\")\n",
        "print(f\"Gas tax rate (G): {G.varValue} cents/gallon\")\n",
        "print(f\"Tax rate on income up to $30,000 (T1): {T1.varValue} %\")\n",
        "print(f\"Tax rate on income over $30,000 (T2): {T2.varValue} %\")\n",
        "print(f\"Spending cut (C): {C.varValue} billion dollars\")\n",
        "print(f\"Total Revenue: {revenue:.2f} billion dollars\")  # New addition\n",
        "print(f\"d1_plus: {d1_plus.varValue}\")\n",
        "print(f\"d1_minus: {d1_minus.varValue}\")\n",
        "print(f\"d2_plus: {d2_plus.varValue}\")\n",
        "print(f\"d2_minus: {d2_minus.varValue}\")\n",
        "print(f\"d3_plus: {d3_plus.varValue}\")\n",
        "print(f\"d3_minus: {d3_minus.varValue}\")\n",
        "print(f\"d4_plus: {d4_plus.varValue}\")\n",
        "print(f\"d4_minus: {d4_minus.varValue}\")"
      ],
      "metadata": {
        "colab": {
          "base_uri": "https://localhost:8080/"
        },
        "id": "uQJi1DI7iWOS",
        "outputId": "4026bd2e-69a6-47ae-da73-fcc38cda4f80"
      },
      "execution_count": null,
      "outputs": [
        {
          "output_type": "stream",
          "name": "stdout",
          "text": [
            "Status: Optimal\n",
            "Objective Value (Total Weighted Deviations): 0.0\n",
            "Gas tax rate (G): 300.0 cents/gallon\n",
            "Tax rate on income up to $30,000 (T1): 0.0 %\n",
            "Tax rate on income over $30,000 (T2): 26.666667 %\n",
            "Spending cut (C): 150.0 billion dollars\n",
            "Total Revenue: 850.00 billion dollars\n",
            "d1_plus: 0.0\n",
            "d1_minus: 0.0\n",
            "d2_plus: 0.0\n",
            "d2_minus: 0.0\n",
            "d3_plus: 0.0\n",
            "d3_minus: 0.0\n",
            "d4_plus: 0.0\n",
            "d4_minus: 50.0\n"
          ]
        }
      ]
    },
    {
      "cell_type": "code",
      "source": [
        "problem"
      ],
      "metadata": {
        "colab": {
          "base_uri": "https://localhost:8080/"
        },
        "id": "ZtTcfL74Nq7K",
        "outputId": "d9ed0b8e-bf55-4782-deb2-57c82c7fd936"
      },
      "execution_count": null,
      "outputs": [
        {
          "output_type": "execute_result",
          "data": {
            "text/plain": [
              "Goal_Programming:\n",
              "MINIMIZE\n",
              "1*d1_minus + 1*d2_plus + 1*d3_plus + 1*d4_plus + 0\n",
              "SUBJECT TO\n",
              "Budget_Balance: C + 1.5 G + 25 T1 + 15 T2 + d1_minus - d1_plus = 1000\n",
              "\n",
              "Spending_Cut: C + d2_minus - d2_plus = 150\n",
              "\n",
              "Upper_Class_Tax_Limit: 0.5 G + 5 T1 + 15 T2 + d3_minus - d3_plus = 550\n",
              "\n",
              "Lower_Class_Tax_Limit: G + 20 T1 + d4_minus - d4_plus = 350\n",
              "\n",
              "Tax_Rate_Constraint: - T1 + T2 >= 0\n",
              "\n",
              "VARIABLES\n",
              "C Continuous\n",
              "G Continuous\n",
              "T1 Continuous\n",
              "T2 Continuous\n",
              "d1_minus Continuous\n",
              "d1_plus Continuous\n",
              "d2_minus Continuous\n",
              "d2_plus Continuous\n",
              "d3_minus Continuous\n",
              "d3_plus Continuous\n",
              "d4_minus Continuous\n",
              "d4_plus Continuous"
            ]
          },
          "metadata": {},
          "execution_count": 3
        }
      ]
    },
    {
      "cell_type": "markdown",
      "source": [
        "## Question 3.b"
      ],
      "metadata": {
        "id": "MIQC7wzzpA3E"
      }
    },
    {
      "cell_type": "code",
      "source": [
        "# Solve the original problem\n",
        "problem.solve()\n",
        "\n",
        "# Calculate total revenue from the optimal solution\n",
        "revenue = G.varValue * 1.5 + 25 * T1.varValue + 15 * T2.varValue\n",
        "\n",
        "# Display the original results\n",
        "print(f\"Status: {LpStatus[problem.status]}\")\n",
        "print(f\"Objective Value (Total Weighted Deviations): {pulp.value(problem.objective)}\")\n",
        "print(f\"Gas tax rate (G): {G.varValue:.2f} cents/gallon\")\n",
        "print(f\"Tax rate on income up to $30,000 (T1): {T1.varValue:.2f} %\")\n",
        "print(f\"Tax rate on income over $30,000 (T2): {T2.varValue:.2f} %\")\n",
        "print(f\"Spending cut (C): {C.varValue:.2f} billion dollars\")\n",
        "print(f\"Total Revenue: {revenue:.2f} billion dollars\")\n",
        "print(\"-\" * 50)\n",
        "\n",
        "# Sensitivity analysis setup\n",
        "print(\"\\nSensitivity Analysis Results (5% Increase and Decrease):\")\n",
        "print(\"=\" * 50)\n",
        "\n",
        "# Revenue equation coefficients\n",
        "coefficients = {\n",
        "    \"G\": 1.5,        # Revenue per unit of G\n",
        "    \"T1\": 25,        # Revenue per unit of T1\n",
        "    \"T2\": 15,        # Revenue per unit of T2\n",
        "}\n",
        "\n",
        "# Perform sensitivity analysis for both 10% increase and decrease\n",
        "base_values = {\n",
        "    \"G\": G.varValue,\n",
        "    \"T1\": T1.varValue,\n",
        "    \"T2\": T2.varValue,\n",
        "    \"C\": C.varValue\n",
        "}\n",
        "\n",
        "for var, base_value in base_values.items():\n",
        "    if var in coefficients:\n",
        "        coeff = coefficients[var]\n",
        "\n",
        "        # 10% increase\n",
        "        increase_adjustment = base_value * 0.05\n",
        "        increase_impact = coeff * increase_adjustment\n",
        "        adjusted_revenue_increase = revenue + increase_impact\n",
        "        percent_increase = (increase_impact / revenue) * 100  # Percent change\n",
        "\n",
        "        # 10% decrease\n",
        "        decrease_adjustment = base_value * -0.05\n",
        "        decrease_impact = coeff * decrease_adjustment\n",
        "        adjusted_revenue_decrease = revenue + decrease_impact\n",
        "        percent_decrease = (decrease_impact / revenue) * 100  # Percent change\n",
        "\n",
        "        print(f\"Variable: {var}\")\n",
        "        print(f\"  Current Value: {base_value:.2f}\")\n",
        "        print(f\"  5% Increase Adjustment: +{increase_adjustment:.2f}\")\n",
        "        print(f\"    Impact on Revenue (billion $): +{increase_impact:.2f}\")\n",
        "        print(f\"    Adjusted Revenue (billion $): {adjusted_revenue_increase:.2f}\")\n",
        "        print(f\"    Revenue Change (Percent): +{percent_increase:.2f}%\")\n",
        "        print(f\"  5% Decrease Adjustment: {decrease_adjustment:.2f}\")\n",
        "        print(f\"    Impact on Revenue (billion $): {decrease_impact:.2f}\")\n",
        "        print(f\"    Adjusted Revenue (billion $): {adjusted_revenue_decrease:.2f}\")\n",
        "        print(f\"    Revenue Change (Percent): {percent_decrease:.2f}%\")\n",
        "        print(\"-\" * 50)\n",
        "    else:\n",
        "        print(f\"Variable: {var} (Spending Cut, C)\")\n",
        "        print(\"  Revenue Impact: Spending cuts do not directly affect revenue\")\n",
        "        print(\"-\" * 50)"
      ],
      "metadata": {
        "colab": {
          "base_uri": "https://localhost:8080/"
        },
        "id": "76q21Q0PpDmL",
        "outputId": "a714d801-3a35-4a10-f671-8a7641f157c4"
      },
      "execution_count": null,
      "outputs": [
        {
          "output_type": "stream",
          "name": "stdout",
          "text": [
            "Status: Optimal\n",
            "Objective Value (Total Weighted Deviations): 0.0\n",
            "Gas tax rate (G): 300.00 cents/gallon\n",
            "Tax rate on income up to $30,000 (T1): 0.00 %\n",
            "Tax rate on income over $30,000 (T2): 26.67 %\n",
            "Spending cut (C): 150.00 billion dollars\n",
            "Total Revenue: 850.00 billion dollars\n",
            "--------------------------------------------------\n",
            "\n",
            "Sensitivity Analysis Results (5% Increase and Decrease):\n",
            "==================================================\n",
            "Variable: G\n",
            "  Current Value: 300.00\n",
            "  5% Increase Adjustment: +15.00\n",
            "    Impact on Revenue (billion $): +22.50\n",
            "    Adjusted Revenue (billion $): 872.50\n",
            "    Revenue Change (Percent): +2.65%\n",
            "  5% Decrease Adjustment: -15.00\n",
            "    Impact on Revenue (billion $): -22.50\n",
            "    Adjusted Revenue (billion $): 827.50\n",
            "    Revenue Change (Percent): -2.65%\n",
            "--------------------------------------------------\n",
            "Variable: T1\n",
            "  Current Value: 0.00\n",
            "  5% Increase Adjustment: +0.00\n",
            "    Impact on Revenue (billion $): +0.00\n",
            "    Adjusted Revenue (billion $): 850.00\n",
            "    Revenue Change (Percent): +0.00%\n",
            "  5% Decrease Adjustment: -0.00\n",
            "    Impact on Revenue (billion $): -0.00\n",
            "    Adjusted Revenue (billion $): 850.00\n",
            "    Revenue Change (Percent): -0.00%\n",
            "--------------------------------------------------\n",
            "Variable: T2\n",
            "  Current Value: 26.67\n",
            "  5% Increase Adjustment: +1.33\n",
            "    Impact on Revenue (billion $): +20.00\n",
            "    Adjusted Revenue (billion $): 870.00\n",
            "    Revenue Change (Percent): +2.35%\n",
            "  5% Decrease Adjustment: -1.33\n",
            "    Impact on Revenue (billion $): -20.00\n",
            "    Adjusted Revenue (billion $): 830.00\n",
            "    Revenue Change (Percent): -2.35%\n",
            "--------------------------------------------------\n",
            "Variable: C (Spending Cut, C)\n",
            "  Revenue Impact: Spending cuts do not directly affect revenue\n",
            "--------------------------------------------------\n"
          ]
        }
      ]
    },
    {
      "cell_type": "markdown",
      "source": [
        "## Question 3.c"
      ],
      "metadata": {
        "id": "CottJbT3tw4l"
      }
    },
    {
      "cell_type": "code",
      "source": [
        "# Define the problem\n",
        "problem = pulp.LpProblem(\"Lexicographic_Goal_Programming\", LpMinimize)\n",
        "\n",
        "# Decision variables\n",
        "G = pulp.LpVariable(\"G\", lowBound=0)  # Gas tax rate (in cents per gallon)\n",
        "T1 = pulp.LpVariable(\"T1\", lowBound=0)  # Tax rate on income up to $30,000 (in %)\n",
        "T2 = pulp.LpVariable(\"T2\", lowBound=0)  # Tax rate on income over $30,000 (in %)\n",
        "C = pulp.LpVariable(\"C\", lowBound=0)  # Spending cut (in billions)\n",
        "\n",
        "# Deviational variables for goal programming\n",
        "d1_plus = pulp.LpVariable(\"d1_plus\", lowBound=0)  # Positive deviation for budget balance\n",
        "d1_minus = pulp.LpVariable(\"d1_minus\", lowBound=0)  # Negative deviation for budget balance\n",
        "\n",
        "d2_plus = pulp.LpVariable(\"d2_plus\", lowBound=0)  # Positive deviation for spending cut\n",
        "d2_minus = pulp.LpVariable(\"d2_minus\", lowBound=0)  # Negative deviation for spending cut\n",
        "\n",
        "d3_plus = pulp.LpVariable(\"d3_plus\", lowBound=0)  # Positive deviation for upper-class tax limit\n",
        "d3_minus = pulp.LpVariable(\"d3_minus\", lowBound=0)  # Negative deviation for upper-class tax limit\n",
        "\n",
        "d4_plus = pulp.LpVariable(\"d4_plus\", lowBound=0)  # Positive deviation for lower-class tax limit\n",
        "d4_minus = pulp.LpVariable(\"d4_minus\", lowBound=0)  # Negative deviation for lower-class tax limit\n",
        "\n",
        "# Step 1: Define Constraints for All Goals\n",
        "problem += G * 1.5 + 25 * T1 + 15 * T2 + C - d1_plus + d1_minus == 1000, \"Budget_Balance\"\n",
        "problem += C - d2_plus + d2_minus == 150, \"Spending_Cut\"\n",
        "problem += 0.5 * G + 5 * T1 + 15 * T2 - d3_plus + d3_minus == 550, \"Upper_Class_Tax_Limit\"\n",
        "problem += G + 20 * T1 - d4_plus + d4_minus == 350, \"Lower_Class_Tax_Limit\"\n",
        "problem += T2 >= T1, \"Tax_Rate_Constraint\"\n",
        "\n",
        "# Step 2: Solve for the First-Priority Goal (Budget Balance)\n",
        "problem += (d1_minus), \"First_Priority_Goal\"\n",
        "problem.solve()\n",
        "\n",
        "# Record the optimal deviation for the first goal\n",
        "optimal_d1 = d1_minus.varValue\n",
        "print(\"After First Goal (Budget Balance):\")\n",
        "print(f\"  Objective Value: {pulp.value(problem.objective)}\")\n",
        "print(f\"  Optimal d1_minus: {optimal_d1}\")\n",
        "print(\"-\" * 50)\n",
        "\n",
        "# Step 3: Add Constraint for the First Goal's Optimal Deviation\n",
        "problem += (d1_minus) <= optimal_d1, \"Constraint_First_Goal\"\n",
        "\n",
        "# Step 4: Solve for the Second-Priority Goal (Spending Cut)\n",
        "problem += (d2_plus), \"Second_Priority_Goal\"\n",
        "problem.solve()\n",
        "\n",
        "# Record the optimal deviation for the second goal\n",
        "optimal_d2 = d2_plus.varValue\n",
        "print(\"After Second Goal (Spending Cuts):\")\n",
        "print(f\"  Objective Value: {pulp.value(problem.objective)}\")\n",
        "print(f\"  Optimal d2_plus: {optimal_d2}\")\n",
        "print(\"-\" * 50)\n",
        "\n",
        "# Step 5: Add Constraint for the Second Goal's Optimal Deviation\n",
        "problem += (d2_plus) <= optimal_d2, \"Constraint_Second_Goal\"\n",
        "\n",
        "# Step 6: Solve for the Third-Priority Goal (Upper-Class Tax Limit)\n",
        "problem += (d3_plus), \"Third_Priority_Goal\"\n",
        "problem.solve()\n",
        "\n",
        "# Record the optimal deviation for the third goal\n",
        "optimal_d3 = d3_plus.varValue\n",
        "print(\"After Third Goal (Upper-Class Tax Limit):\")\n",
        "print(f\"  Objective Value: {pulp.value(problem.objective)}\")\n",
        "print(f\"  Optimal d3_plus: {optimal_d3}\")\n",
        "print(\"-\" * 50)\n",
        "\n",
        "# Step 7: Add Constraint for the Third Goal's Optimal Deviation\n",
        "problem += (d3_plus) <= optimal_d3, \"Constraint_Third_Goal\"\n",
        "\n",
        "# Step 8: Solve for the Fourth-Priority Goal (Lower-Class Tax Limit)\n",
        "problem += (d4_plus), \"Fourth_Priority_Goal\"\n",
        "problem.solve()\n",
        "\n",
        "# Final Results\n",
        "print(\"After Fourth Goal (Lower-Class Tax Limit):\")\n",
        "print(f\"  Objective Value: {pulp.value(problem.objective)}\")\n",
        "print(f\"  Optimal d4_plus: {d4_plus.varValue}\")\n",
        "print(\"-\" * 50)\n",
        "\n",
        "# Display Final Values\n",
        "print(\"Final Optimal Values:\")\n",
        "print(f\"  Gas tax rate (G): {G.varValue:.2f} cents/gallon\")\n",
        "print(f\"  Tax rate on income up to $30,000 (T1): {T1.varValue:.2f} %\")\n",
        "print(f\"  Tax rate on income over $30,000 (T2): {T2.varValue:.2f} %\")\n",
        "print(f\"  Spending cut (C): {C.varValue:.2f} billion dollars\")"
      ],
      "metadata": {
        "colab": {
          "base_uri": "https://localhost:8080/"
        },
        "id": "yKpEdhnItz8n",
        "outputId": "5d34eab5-d3d9-45a3-b998-2e91ccb4b2d6"
      },
      "execution_count": null,
      "outputs": [
        {
          "output_type": "stream",
          "name": "stdout",
          "text": [
            "After First Goal (Budget Balance):\n",
            "  Objective Value: 0.0\n",
            "  Optimal d1_minus: 0.0\n",
            "--------------------------------------------------\n",
            "After Second Goal (Spending Cuts):\n",
            "  Objective Value: 0.0\n",
            "  Optimal d2_plus: 0.0\n",
            "--------------------------------------------------\n",
            "After Third Goal (Upper-Class Tax Limit):\n",
            "  Objective Value: 0.0\n",
            "  Optimal d3_plus: 0.0\n",
            "--------------------------------------------------\n",
            "After Fourth Goal (Lower-Class Tax Limit):\n",
            "  Objective Value: 0.0\n",
            "  Optimal d4_plus: 0.0\n",
            "--------------------------------------------------\n",
            "Final Optimal Values:\n",
            "  Gas tax rate (G): 300.00 cents/gallon\n",
            "  Tax rate on income up to $30,000 (T1): 0.00 %\n",
            "  Tax rate on income over $30,000 (T2): 26.67 %\n",
            "  Spending cut (C): 150.00 billion dollars\n"
          ]
        },
        {
          "output_type": "stream",
          "name": "stderr",
          "text": [
            "/usr/local/lib/python3.10/dist-packages/pulp/pulp.py:1657: UserWarning: Overwriting previously set objective.\n",
            "  warnings.warn(\"Overwriting previously set objective.\")\n"
          ]
        }
      ]
    },
    {
      "cell_type": "code",
      "source": [
        "import pulp\n",
        "\n",
        "# Define the problem\n",
        "problem = pulp.LpProblem(\"Lexicographic_Goal_Programming\", pulp.LpMinimize)\n",
        "\n",
        "# Decision variables\n",
        "G = pulp.LpVariable(\"G\", lowBound=0)  # Gas tax rate (in cents per gallon)\n",
        "T1 = pulp.LpVariable(\"T1\", lowBound=0)  # Tax rate on income up to $30,000 (in %)\n",
        "T2 = pulp.LpVariable(\"T2\", lowBound=0)  # Tax rate on income over $30,000 (in %)\n",
        "C = pulp.LpVariable(\"C\", lowBound=0)  # Spending cut (in billions)\n",
        "\n",
        "# Deviational variables for goal programming\n",
        "d1_plus = pulp.LpVariable(\"d1_plus\", lowBound=0)  # Positive deviation for budget balance\n",
        "d1_minus = pulp.LpVariable(\"d1_minus\", lowBound=0)  # Negative deviation for budget balance\n",
        "\n",
        "d2_plus = pulp.LpVariable(\"d2_plus\", lowBound=0)  # Positive deviation for spending cut\n",
        "d2_minus = pulp.LpVariable(\"d2_minus\", lowBound=0)  # Negative deviation for spending cut\n",
        "\n",
        "d3_plus = pulp.LpVariable(\"d3_plus\", lowBound=0)  # Positive deviation for upper-class tax limit\n",
        "d3_minus = pulp.LpVariable(\"d3_minus\", lowBound=0)  # Negative deviation for upper-class tax limit\n",
        "\n",
        "d4_plus = pulp.LpVariable(\"d4_plus\", lowBound=0)  # Positive deviation for lower-class tax limit\n",
        "d4_minus = pulp.LpVariable(\"d4_minus\", lowBound=0)  # Negative deviation for lower-class tax limit\n",
        "\n",
        "# Step 1: Define Constraints for All Goals\n",
        "problem += G * 1.5 + 25 * T1 + 15 * T2 + C - d1_plus + d1_minus == 1000, \"Budget_Balance\"\n",
        "problem += C - d2_plus + d2_minus == 150, \"Spending_Cut\"\n",
        "problem += 0.5 * G + 5 * T1 + 15 * T2 - d3_plus + d3_minus == 550, \"Upper_Class_Tax_Limit\"\n",
        "problem += G + 20 * T1 - d4_plus + d4_minus == 350, \"Lower_Class_Tax_Limit\"\n",
        "problem += T2 >= T1, \"Tax_Rate_Constraint\"\n",
        "\n",
        "# Step 2: Solve for the First-Priority Goal (Budget Balance)\n",
        "priority_1 = pulp.LpProblem(\"First_Priority_Goal\", pulp.LpMinimize)\n",
        "priority_1 += d1_minus, \"Minimize_Negative_Deviation_Budget_Balance\"\n",
        "priority_1.constraints = problem.constraints\n",
        "priority_1.solve()\n",
        "\n",
        "# Record the optimal deviation for the first goal\n",
        "optimal_d1 = d1_minus.varValue\n",
        "print(\"After First Goal (Budget Balance):\")\n",
        "print(f\"  Objective Value: {pulp.value(priority_1.objective)}\")\n",
        "print(f\"  Optimal d1_minus: {optimal_d1}\")\n",
        "print(\"-\" * 50)\n",
        "\n",
        "# Step 3: Add Constraint for the First Goal's Optimal Deviation\n",
        "problem += (d1_minus == optimal_d1), \"Constraint_First_Goal\"\n",
        "\n",
        "# Step 4: Solve for the Second-Priority Goal (Spending Cut)\n",
        "priority_2 = pulp.LpProblem(\"Second_Priority_Goal\", pulp.LpMinimize)\n",
        "priority_2 += d2_plus, \"Minimize_Positive_Deviation_Spending_Cut\"\n",
        "priority_2.constraints = problem.constraints\n",
        "priority_2.solve()\n",
        "\n",
        "# Record the optimal deviation for the second goal\n",
        "optimal_d2 = d2_plus.varValue\n",
        "print(\"After Second Goal (Spending Cuts):\")\n",
        "print(f\"  Objective Value: {pulp.value(priority_2.objective)}\")\n",
        "print(f\"  Optimal d2_plus: {optimal_d2}\")\n",
        "print(\"-\" * 50)\n",
        "\n",
        "# Step 5: Add Constraint for the Second Goal's Optimal Deviation\n",
        "problem += (d2_plus == optimal_d2), \"Constraint_Second_Goal\"\n",
        "\n",
        "# Step 6: Solve for the Third-Priority Goal (Upper-Class Tax Limit)\n",
        "priority_3 = pulp.LpProblem(\"Third_Priority_Goal\", pulp.LpMinimize)\n",
        "priority_3 += d3_plus, \"Minimize_Positive_Deviation_Upper_Class_Tax\"\n",
        "priority_3.constraints = problem.constraints\n",
        "priority_3.solve()\n",
        "\n",
        "# Record the optimal deviation for the third goal\n",
        "optimal_d3 = d3_plus.varValue\n",
        "print(\"After Third Goal (Upper-Class Tax Limit):\")\n",
        "print(f\"  Objective Value: {pulp.value(priority_3.objective)}\")\n",
        "print(f\"  Optimal d3_plus: {optimal_d3}\")\n",
        "print(\"-\" * 50)\n",
        "\n",
        "# Step 7: Add Constraint for the Third Goal's Optimal Deviation\n",
        "problem += (d3_plus == optimal_d3), \"Constraint_Third_Goal\"\n",
        "\n",
        "# Step 8: Solve for the Fourth-Priority Goal (Lower-Class Tax Limit)\n",
        "priority_4 = pulp.LpProblem(\"Fourth_Priority_Goal\", pulp.LpMinimize)\n",
        "priority_4 += d4_plus, \"Minimize_Positive_Deviation_Lower_Class_Tax\"\n",
        "priority_4.constraints = problem.constraints\n",
        "priority_4.solve()\n",
        "\n",
        "# Final Results\n",
        "print(\"After Fourth Goal (Lower-Class Tax Limit):\")\n",
        "print(f\"  Objective Value: {pulp.value(priority_4.objective)}\")\n",
        "print(f\"  Optimal d4_plus: {d4_plus.varValue}\")\n",
        "print(\"-\" * 50)\n",
        "\n",
        "# Display Final Values\n",
        "print(\"Final Optimal Values:\")\n",
        "print(f\"  Gas tax rate (G): {G.varValue:.2f} cents/gallon\")\n",
        "print(f\"  Tax rate on income up to $30,000 (T1): {T1.varValue:.2f} %\")\n",
        "print(f\"  Tax rate on income over $30,000 (T2): {T2.varValue:.2f} %\")\n",
        "print(f\"  Spending cut (C): {C.varValue:.2f} billion dollars\")\n"
      ],
      "metadata": {
        "colab": {
          "base_uri": "https://localhost:8080/"
        },
        "id": "KSCAwNSkfVGx",
        "outputId": "ff7806d8-095f-49e7-8113-ea413d63cc81"
      },
      "execution_count": null,
      "outputs": [
        {
          "output_type": "stream",
          "name": "stdout",
          "text": [
            "After First Goal (Budget Balance):\n",
            "  Objective Value: 0.0\n",
            "  Optimal d1_minus: 0.0\n",
            "--------------------------------------------------\n",
            "After Second Goal (Spending Cuts):\n",
            "  Objective Value: 0.0\n",
            "  Optimal d2_plus: 0.0\n",
            "--------------------------------------------------\n",
            "After Third Goal (Upper-Class Tax Limit):\n",
            "  Objective Value: 0.0\n",
            "  Optimal d3_plus: 0.0\n",
            "--------------------------------------------------\n",
            "After Fourth Goal (Lower-Class Tax Limit):\n",
            "  Objective Value: 0.0\n",
            "  Optimal d4_plus: 0.0\n",
            "--------------------------------------------------\n",
            "Final Optimal Values:\n",
            "  Gas tax rate (G): 300.00 cents/gallon\n",
            "  Tax rate on income up to $30,000 (T1): 0.00 %\n",
            "  Tax rate on income over $30,000 (T2): 26.67 %\n",
            "  Spending cut (C): 150.00 billion dollars\n"
          ]
        }
      ]
    },
    {
      "cell_type": "code",
      "source": [
        "problem"
      ],
      "metadata": {
        "id": "RXQQyffbiX8l",
        "outputId": "004540e5-bdd5-4881-b172-f9749f51c45d",
        "colab": {
          "base_uri": "https://localhost:8080/"
        }
      },
      "execution_count": null,
      "outputs": [
        {
          "output_type": "execute_result",
          "data": {
            "text/plain": [
              "Lexicographic_Goal_Programming:\n",
              "MINIMIZE\n",
              "None\n",
              "SUBJECT TO\n",
              "Budget_Balance: C + 1.5 G + 25 T1 + 15 T2 + d1_minus - d1_plus = 1000\n",
              "\n",
              "Spending_Cut: C + d2_minus - d2_plus = 150\n",
              "\n",
              "Upper_Class_Tax_Limit: 0.5 G + 5 T1 + 15 T2 + d3_minus - d3_plus = 550\n",
              "\n",
              "Lower_Class_Tax_Limit: G + 20 T1 + d4_minus - d4_plus = 350\n",
              "\n",
              "Tax_Rate_Constraint: - T1 + T2 >= 0\n",
              "\n",
              "Constraint_First_Goal: d1_minus = 0\n",
              "\n",
              "Constraint_Second_Goal: d2_plus = 0\n",
              "\n",
              "Constraint_Third_Goal: d3_plus = 0\n",
              "\n",
              "VARIABLES\n",
              "C Continuous\n",
              "G Continuous\n",
              "T1 Continuous\n",
              "T2 Continuous\n",
              "d1_minus Continuous\n",
              "d1_plus Continuous\n",
              "d2_minus Continuous\n",
              "d2_plus Continuous\n",
              "d3_minus Continuous\n",
              "d3_plus Continuous\n",
              "d4_minus Continuous\n",
              "d4_plus Continuous"
            ]
          },
          "metadata": {},
          "execution_count": 10
        }
      ]
    },
    {
      "cell_type": "code",
      "source": [
        "# Define the problem\n",
        "problem = pulp.LpProblem(\"Weighted_Goal_Programming\", LpMinimize)\n",
        "\n",
        "# Decision variables\n",
        "G = pulp.LpVariable(\"G\", lowBound=0)  # Gas tax rate (in cents per gallon)\n",
        "T1 = pulp.LpVariable(\"T1\", lowBound=0)  # Tax rate on income up to $30,000 (in %)\n",
        "T2 = pulp.LpVariable(\"T2\", lowBound=0)  # Tax rate on income over $30,000 (in %)\n",
        "C = pulp.LpVariable(\"C\", lowBound=0)  # Spending cut (in billions)\n",
        "\n",
        "# Deviational variables for goal programming\n",
        "d1_plus = pulp.LpVariable(\"d1_plus\", lowBound=0)  # Positive deviation for budget balance\n",
        "d1_minus = pulp.LpVariable(\"d1_minus\", lowBound=0)  # Negative deviation for budget balance\n",
        "\n",
        "d2_plus = pulp.LpVariable(\"d2_plus\", lowBound=0)  # Positive deviation for spending cut\n",
        "d2_minus = pulp.LpVariable(\"d2_minus\", lowBound=0)  # Negative deviation for spending cut\n",
        "\n",
        "d3_plus = pulp.LpVariable(\"d3_plus\", lowBound=0)  # Positive deviation for upper-class tax limit\n",
        "d3_minus = pulp.LpVariable(\"d3_minus\", lowBound=0)  # Negative deviation for upper-class tax limit\n",
        "\n",
        "d4_plus = pulp.LpVariable(\"d4_plus\", lowBound=0)  # Positive deviation for lower-class tax limit\n",
        "d4_minus = pulp.LpVariable(\"d4_minus\", lowBound=0)  # Negative deviation for lower-class tax limit\n",
        "\n",
        "# Define Constraints\n",
        "problem += G * 1.5 + 25 * T1 + 15 * T2 + C - d1_plus + d1_minus == 1000, \"Budget_Balance\"\n",
        "problem += C - d2_plus + d2_minus == 150, \"Spending_Cut\"\n",
        "problem += 0.5 * G + 5 * T1 + 15 * T2 - d3_plus + d3_minus == 550, \"Upper_Class_Tax_Limit\"\n",
        "problem += G + 20 * T1 - d4_plus + d4_minus == 350, \"Lower_Class_Tax_Limit\"\n",
        "problem += T2 >= T1, \"Tax_Rate_Constraint\"\n",
        "\n",
        "# Objective Function: Weighted Sum of Deviations\n",
        "problem += (\n",
        "    1000 * (d1_minus) +  # Weight for Budget Balance deviations\n",
        "    100 * (d2_plus) +   # Weight for Spending Cut deviations\n",
        "    10 * (d3_plus) +    # Weight for Upper-Class Tax Limit deviations\n",
        "    1 * (d4_plus)       # Weight for Lower-Class Tax Limit deviations\n",
        "), \"Weighted_Deviations\"\n",
        "\n",
        "# Solve the problem\n",
        "problem.solve()\n",
        "\n",
        "# Display Results\n",
        "print(f\"Status: {LpStatus[problem.status]}\")\n",
        "print(f\"Objective Value (Total Weighted Deviations): {pulp.value(problem.objective)}\")\n",
        "print(f\"Gas tax rate (G): {G.varValue:.2f} cents/gallon\")\n",
        "print(f\"Tax rate on income up to $30,000 (T1): {T1.varValue:.2f} %\")\n",
        "print(f\"Tax rate on income over $30,000 (T2): {T2.varValue:.2f} %\")\n",
        "print(f\"Spending cut (C): {C.varValue:.2f} billion dollars\")\n",
        "print(\"-\" * 50)\n",
        "\n",
        "# Deviation Results\n",
        "print(\"Deviation Results:\")\n",
        "print(f\"  Deviation from budget balance (d1_plus): {d1_plus.varValue:.2f}\")\n",
        "print(f\"  Deviation from budget balance (d1_minus): {d1_minus.varValue:.2f}\")\n",
        "print(f\"  Deviation from spending cut goal (d2_plus): {d2_plus.varValue:.2f}\")\n",
        "print(f\"  Deviation from spending cut goal (d2_minus): {d2_minus.varValue:.2f}\")\n",
        "print(f\"  Deviation from upper-class tax limit (d3_plus): {d3_plus.varValue:.2f}\")\n",
        "print(f\"  Deviation from upper-class tax limit (d3_minus): {d3_minus.varValue:.2f}\")\n",
        "print(f\"  Deviation from lower-class tax limit (d4_plus): {d4_plus.varValue:.2f}\")\n",
        "print(f\"  Deviation from lower-class tax limit (d4_minus): {d4_minus.varValue:.2f}\")"
      ],
      "metadata": {
        "id": "k2ifiLP1vb-0"
      },
      "execution_count": null,
      "outputs": []
    }
  ]
}